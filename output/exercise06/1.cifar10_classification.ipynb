{
 "cells": [
  {
   "cell_type": "markdown",
   "metadata": {
    "id": "g6vUCiE_N5eU"
   },
   "source": [
    "# Cifar10 Classification"
   ]
  },
  {
   "cell_type": "markdown",
   "metadata": {
    "id": "X9ridWdTN5eY"
   },
   "source": [
    "Until now, we have implemented several pieces of a deep learning pipeline and trained a two-layer neural network, but all hyperparameters were pre-set to values yielding resonable results. However, in real problems a large part of the work will be geared towards finding the best hyperparameter settings for a certain problem. In this notebook we will explore some good practices for network debugging and hyperparameters search, as well as extending our binary classification neural network to a multi-class one.\n",
    "\n",
    "Let's go!"
   ]
  },
  {
   "cell_type": "markdown",
   "metadata": {
    "id": "4sTNILP7OCzb"
   },
   "source": [
    "## (Optional) Mount folder in Colab\n",
    "\n",
    "Uncomment the following cell to mount your gdrive if you are using the notebook in google colab:"
   ]
  },
  {
   "cell_type": "code",
   "execution_count": 1,
   "metadata": {
    "colab": {
     "base_uri": "https://localhost:8080/"
    },
    "executionInfo": {
     "elapsed": 35664,
     "status": "ok",
     "timestamp": 1650011700447,
     "user": {
      "displayName": "Weber Anna",
      "userId": "18154618360144454414"
     },
     "user_tz": -120
    },
    "id": "PoG-5okpOPht",
    "outputId": "a670ffa3-ee59-4ef5-e323-3f3fec373486"
   },
   "outputs": [],
   "source": [
    "\n",
    "# from google.colab import drive\n",
    "# import os\n",
    "\n",
    "# gdrive_path='/content/gdrive/MyDrive/i2dl/exercise_06'\n",
    "\n",
    "# # This will mount your google drive under 'MyDrive'\n",
    "# drive.mount('/content/gdrive', force_remount=True)\n",
    "# # In order to access the files in this notebook we have to navigate to the correct folder\n",
    "# os.chdir(gdrive_path)\n",
    "# # Check manually if all files are present\n",
    "# print(sorted(os.listdir()))\n"
   ]
  },
  {
   "cell_type": "code",
   "execution_count": 2,
   "metadata": {
    "id": "JZmN1ATIN5eY"
   },
   "outputs": [],
   "source": [
    "# Some lengthy setup.\n",
    "import matplotlib.pyplot as plt\n",
    "import numpy as np\n",
    "import os\n",
    "import urllib.request\n",
    "\n",
    "from exercise_code.networks.layer import (\n",
    "    Sigmoid, \n",
    "    Relu, \n",
    "    LeakyRelu, \n",
    "    Tanh,\n",
    ")\n",
    "from exercise_code.data import (\n",
    "    DataLoader,\n",
    "    ImageFolderDataset,\n",
    "    MemoryImageFolderDataset,\n",
    "    RescaleTransform,\n",
    "    NormalizeTransform,\n",
    "    FlattenTransform,\n",
    "    ComposeTransform,\n",
    ")\n",
    "from exercise_code.data.image_folder_dataset import RandomHorizontalFlip\n",
    "from exercise_code.networks import (\n",
    "    ClassificationNet,\n",
    "    BCE,\n",
    "    CrossEntropyFromLogits\n",
    ")\n",
    "\n",
    "%load_ext autoreload\n",
    "%autoreload 2\n",
    "%matplotlib inline\n",
    "\n",
    "plt.rcParams['figure.figsize'] = (10.0, 8.0) # set default size of plots\n",
    "plt.rcParams['image.interpolation'] = 'nearest'\n",
    "plt.rcParams['image.cmap'] = 'gray'"
   ]
  },
  {
   "cell_type": "markdown",
   "metadata": {
    "id": "tRdaBwnMN5ea"
   },
   "source": [
    "# 1. Quick recap (and some new things)"
   ]
  },
  {
   "cell_type": "markdown",
   "metadata": {
    "id": "zsNrBTkyN5eb"
   },
   "source": [
    "Until now, in the previous exercises, we focused on building and understanding all the necessary modules for training a simple model. We followed the Pytorch implementations closely, as this is the framework we will use later and we wanted you to have a smoother transition to its APIs. \n",
    "\n",
    "In the figure below you can see the main components in Pytorch. Let's start with a quick recap of **our implementation** of these components. \n",
    "\n",
    "<div class=\"alert alert-success\">\n",
    "    <h3>Task: Check Code</h3>\n",
    "    <p>Everything is already implemented for this part, but we <b>strongly</b> encourage you to check  the respective source files in order to have a better understanding. </p>\n",
    "</div>"
   ]
  },
  {
   "cell_type": "markdown",
   "metadata": {
    "id": "reTr9-VRN5ec"
   },
   "source": [
    "<img src=\"https://cdn-images-1.medium.com/max/800/1*uZrS4KjAuSJQIJPgOiaJUg.png\" style=\"width: 500px;\">"
   ]
  },
  {
   "cell_type": "markdown",
   "metadata": {
    "id": "4fZoL6hvN5ec"
   },
   "source": [
    "## 1.1 Dataset and Dataloader"
   ]
  },
  {
   "cell_type": "markdown",
   "metadata": {
    "id": "jvv1QqmJN5ed"
   },
   "source": [
    "Data preparation is an important part of deep learning projects. Because the data can come in different formats and from different sources, it must be prepared in a certain way, which depends on the application. One part, however, is uniform: since an entire dataset is usually too large to handle at once, we train our models on smaller batches of data. \n",
    "\n",
    "The goal of the ```Dataset``` class is to encapsulate all the 'dirty' data processing: loading and cleaning the data, storing features (or names of files where features can be found) and labels, as well as providing the means for accessing individual (transformed) items of the data using the ```__getitem__()``` function and an index. You already implemented an ```ImageFolderDataset``` (in ```exercise_code/data/image_folder_dataset.py```) class in Exercise 3. We we will reuse this class here.\n",
    "\n",
    "For processing the data, you implemented several transforms in Exercise 3 (```RescaleTransform```, ```NormalizeTransform```, ```ComposeTransform```). In this exercise we are working with images, which are multidimensional arrays, but we are using a simple feedforward neural network which takes an one dimensional array as an input, so it is necessary to reshape the images before feeding them into the model. \n",
    "\n",
    "<div class=\"alert alert-success\">\n",
    "    <h3>Task: Check Code</h3>\n",
    "    <p>Please check the implementation of the reshape operation in the <code>FlattenTransform</code> class, which can be found in <code>../exercise_06/exercise_code/data/image_folder_dataset.py</code>. </p>\n",
    "</div>"
   ]
  },
  {
   "cell_type": "code",
   "execution_count": 3,
   "metadata": {},
   "outputs": [],
   "source": [
    "download_url = \"https://i2dl.dvl.in.tum.de/downloads/cifar10.zip\"\n",
    "i2dl_exercises_path = os.path.dirname(os.path.abspath(os.getcwd()))\n",
    "cifar_root = os.path.join(i2dl_exercises_path, \"datasets\", \"cifar10\")"
   ]
  },
  {
   "cell_type": "markdown",
   "metadata": {},
   "source": [
    "## The usual memory vs local data warning\n",
    "If you are using google colab or store your files on a local HDD, iterating over dataset takes quite some time and blablabla. You know the drill by now ;).\n",
    "\n",
    "<div class=\"alert alert-danger\">\n",
    "    <h3>Warning</h3>\n",
    "    <p>Loading the whole dataset into memory will not work if you are using a machine with 4GB of RAM or less (depending on your other programs such as memory hungry web browsers). Consider closing some open programs or simply use the local on-demand ImageFolderDataset.</p>\n",
    "    <p>In addition we want to warn you that everytime you execute a cell like \"dataset2 = MemoryImageFolderDataset...\" you are loading a 1.2GB matrix into your memory. If you do this often enough this notebook will crash on every machine. Therefore, we make sure to always use a single variable \"dataset\" which will be overwritten by future cells to avoid straining your memory too much.</p>\n",
    "</div>"
   ]
  },
  {
   "cell_type": "code",
   "execution_count": 4,
   "metadata": {},
   "outputs": [],
   "source": [
    "# Choose your preferred dataset here\n",
    "\n",
    "DATASET = ImageFolderDataset\n",
    "#DATASET = MemoryImageFolderDataset"
   ]
  },
  {
   "cell_type": "markdown",
   "metadata": {},
   "source": [
    "Now that that is taken care of, back to the actual loading."
   ]
  },
  {
   "cell_type": "code",
   "execution_count": 5,
   "metadata": {
    "id": "2fHY8xTPN5ee"
   },
   "outputs": [],
   "source": [
    "# Use the Cifar10 mean and standard deviation computed in Exercise 3.\n",
    "cifar_mean = np.array([0.49191375, 0.48235852, 0.44673872])\n",
    "cifar_std  = np.array([0.24706447, 0.24346213, 0.26147554])\n",
    "\n",
    "# Define all the transforms we will apply on the images when \n",
    "# retrieving them.\n",
    "rescale_transform = RescaleTransform()\n",
    "normalize_transform = NormalizeTransform(\n",
    "    mean=cifar_mean,\n",
    "    std=cifar_std\n",
    ")\n",
    "flatten_transform = FlattenTransform()\n",
    "compose_transform = ComposeTransform([rescale_transform, \n",
    "                                      normalize_transform,\n",
    "                                      flatten_transform])\n",
    "\n",
    "# Create a train, validation and test dataset.\n",
    "datasets = {}\n",
    "for mode in ['train', 'val', 'test']:\n",
    "    crt_dataset = DATASET(\n",
    "        mode=mode,\n",
    "        root=cifar_root, \n",
    "        transform=compose_transform,\n",
    "        split={'train': 0.6, 'val': 0.2, 'test': 0.2}\n",
    "    )\n",
    "    datasets[mode] = crt_dataset"
   ]
  },
  {
   "cell_type": "markdown",
   "metadata": {
    "id": "FsR4dM2kN5ee"
   },
   "source": [
    "Then, based on this ```Dataset``` object, we can construct a ```Dataloader``` object which samples a random mini-batch of data at once. "
   ]
  },
  {
   "cell_type": "code",
   "execution_count": 6,
   "metadata": {
    "id": "3t4Xj_n3N5ef"
   },
   "outputs": [],
   "source": [
    "# Create a dataloader for each split.\n",
    "dataloaders = {}\n",
    "for mode in ['train', 'val', 'test']:\n",
    "    crt_dataloader = DataLoader(\n",
    "        dataset=datasets[mode],\n",
    "        batch_size=256,\n",
    "        shuffle=True,\n",
    "        drop_last=True,\n",
    "    )\n",
    "    dataloaders[mode] = crt_dataloader"
   ]
  },
  {
   "cell_type": "markdown",
   "metadata": {
    "id": "CpruSFLkN5ef"
   },
   "source": [
    "Because the ```Dataloader``` has the ```__iter__()``` method, we can simply iterate through the batches it produces, like this:\n",
    "\n",
    "```python\n",
    "for batch in dataloader['train']:\n",
    "    do_something(batch)\n",
    "```"
   ]
  },
  {
   "cell_type": "markdown",
   "metadata": {
    "id": "L81EGyslN5eg"
   },
   "source": [
    "## 1.2 Data Augmentation\n",
    "\n",
    "After the preprocessing steps, our data is in a good shape and ready to be fed into our network. As explained in the chapter above, we used the transformation functions `RescaleTransform`, `NormalizeTransform` and `FlattenTransform` to achieve this shape. These are the general steps that you need to perform on the data before you can start training. Of course, all these steps have to be applied to our three dataset splits (train, val and test split). In other words, preprocessing involves preparing the data before is can be used for training and inference. \n",
    "\n",
    "Besides these basic transformations, there are many other transformation methods that you can apply to the images. For example, you can <b>flip the images horizontally</b> or <b>blur the images</b> and use these new images to enlarge the dataset. This idea is called Data Augmentation and it involves methods that alter the training images to generate a synthetic dataset that is larger than your original dataset. This will hopefully improve the performance of your model. There is one important difference between data augmentation and data preprocessing: The transformation methods used to enlarge your dataset should only be applied to the training data. The validation and test data should not be affected by these methods.\n",
    "\n",
    "<div class=\"alert alert-success\">\n",
    "    <h3>Task: Check Code</h3>\n",
    "    <p>The choice of transformation methods for data augmentation can be seen as a hyperparameter of your model. You can try to include these to enlarge your training data and obtain better results for your model. In <code>exercise_code/data/image_folder_dataset.py</code> we implemented the function <code>RandomHorizontalFlip</code> for you, which is randomly flipping an image. Check out the implementation.</p>\n",
    "    <p> Later, we will perform hyperparameter tuning. In order to improve your model's performance, you can include some other data augmentation methods. Feel free to play around and to implement other methods as for example Gaussian Blur or Rotation. </p>       \n",
    "</div>\n",
    "\n",
    "Let us quickly check the `RandomHorizontalFlip` method with an image of the Cifar10 dataset in the following cell."
   ]
  },
  {
   "cell_type": "code",
   "execution_count": 7,
   "metadata": {
    "colab": {
     "base_uri": "https://localhost:8080/",
     "height": 98
    },
    "executionInfo": {
     "elapsed": 962,
     "status": "ok",
     "timestamp": 1650011739465,
     "user": {
      "displayName": "Weber Anna",
      "userId": "18154618360144454414"
     },
     "user_tz": -120
    },
    "id": "3BEjmTGHN5eg",
    "outputId": "a6adee5b-1dd4-436c-e811-952f4ae12e5f"
   },
   "outputs": [
    {
     "data": {
      "image/png": "[encoded data removed]",
      "text/plain": [
       "<Figure size 144x144 with 2 Axes>"
      ]
     },
     "metadata": {
      "needs_background": "light"
     },
     "output_type": "display_data"
    }
   ],
   "source": [
    "#Load the data in a dataset without any transformation \n",
    "dataset = DATASET(\n",
    "        mode=mode,\n",
    "        root=cifar_root, \n",
    "        download_url=download_url,\n",
    "        split={'train': 0.6, 'val': 0.2, 'test': 0.2},\n",
    "    )\n",
    "\n",
    "#Retrieve an image from the dataset and flip it\n",
    "image = dataset[1]['image']\n",
    "transform = RandomHorizontalFlip(1)\n",
    "image_flipped = transform(image)\n",
    "\n",
    "#Show the two images\n",
    "plt.figure(figsize = (2,2))\n",
    "plt.subplot(1, 2, 1)\n",
    "plt.imshow(image.astype('uint8'))\n",
    "plt.axis('off')\n",
    "plt.subplot(1, 2, 2)\n",
    "plt.imshow(image_flipped.astype('uint8'))\n",
    "plt.axis('off')\n",
    "plt.title(\"Left: Original Image, Right: Flipped image\")\n",
    "plt.show()"
   ]
  },
  {
   "cell_type": "markdown",
   "metadata": {
    "id": "WKNRU4BWN5eg"
   },
   "source": [
    "## 1.3 Layers\n",
    "\n",
    "Now, that the data is prepared, we can take a look at the model we are using. In our case it will be a neural network. \n",
    "\n",
    "In Exercise 5, you implemented a simple 2-layer neural network that had a hidden size as a parameter:\n",
    "\n",
    "$$ \n",
    "{\\hat{y}} = \\sigma(\\sigma({x W_1} + {b_1}) {W_2} + {b_2}) \n",
    "$$\n",
    "\n",
    "where $ \\sigma({x}) $ was the sigmoid function, $ {x} $ was the input, $ {W_1}, {W_2} $ the weight matrices and $ {b_1}, {b_2}$ the biases for the two layers.\n",
    "\n",
    "This is how we used this network:"
   ]
  },
  {
   "cell_type": "code",
   "execution_count": 8,
   "metadata": {
    "id": "6zta7tzkN5eg"
   },
   "outputs": [],
   "source": [
    "input_size = datasets['train'][0]['image'].shape[0]\n",
    "model = ClassificationNet(input_size=input_size, \n",
    "                          hidden_size=512)"
   ]
  },
  {
   "cell_type": "markdown",
   "metadata": {
    "id": "UpAoXE7nN5eh"
   },
   "source": [
    "Note that we updated the ```ClassificationNet``` from the previous exercise. Now you can customize the number of outputs, the choice of activation function, the hidden size etc. We encourage you to check the implementation in ```exercise_code/networks/classification_net.py``` "
   ]
  },
  {
   "cell_type": "code",
   "execution_count": 9,
   "metadata": {
    "id": "7wzEaw66N5eh"
   },
   "outputs": [],
   "source": [
    "num_layer = 2\n",
    "reg = 0.1\n",
    "\n",
    "model = ClassificationNet(activation=Sigmoid(), \n",
    "                          num_layer=num_layer, \n",
    "                          reg=reg,\n",
    "                          num_classes=10)"
   ]
  },
  {
   "cell_type": "markdown",
   "metadata": {
    "id": "x70gjgkDN5eh"
   },
   "source": [
    "Performing the forward and backward passes through the model was quite simple:\n",
    "\n",
    "```python\n",
    "\n",
    "# X is a batch of training features \n",
    "# X.shape = (batch_size, features_size)\n",
    "y_out = model.forward(X)\n",
    "\n",
    "# dout is the gradient of the loss function w.r.t the output of the network.\n",
    "# dout.shape = (batch_size, )\n",
    "model.backward(dout)\n",
    "```"
   ]
  },
  {
   "cell_type": "markdown",
   "metadata": {
    "id": "dlwNcT2RN5eh"
   },
   "source": [
    "Just as the learning rate or the number of epochs we want to train for, the number of hidden layers and the number of units in each hidden layer are also hyperparameters that we can tune. In this notebook you can play with networks of different sizes to see the impact that the network capacity has.\n",
    "\n",
    "Before we move on to the loss functions, let's have a look at the activation functions. The choice of an activation function can have a huge impact on the performance of the network you are designing. So far, you have implemented the `Sigmoid` and the `Relu` activation functions in Exercise 5. \n",
    "\n",
    "<div class=\"alert alert-success\">\n",
    "    <h3>Task: Check Code</h3>\n",
    "    <p>Take a look at the <code>Sigmoid</code> and the <code>Relu</code> class in <code>exercise_code/networks/layer.py</code> and the implementation of the respective forward and backward passes. Make sure to understand why we used <b>element-wise product</b> instead of dot product in the backward pass of the <code>Sigmoid</code> class to compute the gradient $dx$. That will be helpful for your later implementation of other activation functions.</p>\n",
    "    <p> <b>Note:</b> The <code>cache</code> variable is used to store information from the forward pass and then pass this information in the backward pass to make use of it there. The implementation of both classes shows that this variable can be used differently - depending on which information is needed in the backward pass. </p>\n",
    "</div>\n",
    "\n",
    "Now, we want to have a look at two other, very common activation functions that you have already seen in the lecture: Leaky ReLU activation function and Tanh activation function. \n",
    "\n",
    "**Leaky Relus** are one attempt to fix the “dying ReLU” problem. Instead of the function being zero when $x<0$, a leaky ReLU has a small negative slope (for example, 0.01).  The function computes $f(x) = \\mathbb{1}(x < 0) (\\alpha x) + \\mathbb{1}(x>=0) (x)$ where $\\alpha$ is a small constant. Some people report success with this form of activation function, but the results are not always consistent.\n",
    "\n",
    "The **tanh non-linearity** squashes a real-valued number into the range [-1, 1]. Like the sigmoid neuron, its activations saturate, but unlike the sigmoid neuron its output is zero-centered. Therefore, in practice the tanh non-linearity is always preferred to the sigmoid non-linearity. Also note that the tanh neuron is simply a scaled sigmoid neuron, in particular the following holds: $\\tanh(x) = 2 \\cdot \\sigma(2x) -1$.\n",
    "\n",
    "<img class=left src=https://pytorch.org/docs/stable/_images/LeakyReLU.png alt=\"Figure3\" width=\"350\" align='left'/> \n",
    "<img class=right src=https://pytorch.org/docs/stable/_images/Tanh.png alt=\"Figure4\" width=\"350\"/>\n",
    "\n",
    "<div class=\"alert alert-info\">\n",
    "    <h3>Task: Implement Activation Layers</h3>\n",
    "    <p> Now, it is your turn to implement the <code>LeakyRelu</code> and the <code>Tanh</code> class in <code>exercise_code/networks/layer.py</code> by completing the <code>forward</code> and the <code>backward</code> functions. You can test your implementation in the following two cells. </p>\n",
    "    <p> <b>Note:</b> Always remember to return a cache in <code>forward</code> for later backpropagation in <code>backward</code>. As we have seen above, the <code>cache</code> variable can be used differently for two activation functions.</p>\n",
    "</div>\n",
    "\n",
    "Use this cell to test your implementation of the `LeakyRelu` class:"
   ]
  },
  {
   "cell_type": "code",
   "execution_count": 10,
   "metadata": {
    "colab": {
     "base_uri": "https://localhost:8080/"
    },
    "executionInfo": {
     "elapsed": 854,
     "status": "ok",
     "timestamp": 1650011740634,
     "user": {
      "displayName": "Weber Anna",
      "userId": "18154618360144454414"
     },
     "user_tz": -120
    },
    "id": "v0LYvwHmN5ei",
    "outputId": "e124210f-f387-45b4-cd23-b0444c894b10"
   },
   "outputs": [
    {
     "name": "stdout",
     "output_type": "stream",
     "text": [
      "LeakyReluForwardTest passed.\n",
      "LeakyReluBackwardTest passed.\n",
      "Congratulations you have passed all the unit tests!!! Tests passed: 2/2\n",
      "Score: 100/100\n",
      "You secured a score of :100\n"
     ]
    }
   ],
   "source": [
    "from exercise_code.tests.layer_tests import *\n",
    "print(LeakyReluTestWrapper()())"
   ]
  },
  {
   "cell_type": "markdown",
   "metadata": {
    "id": "kOkiYhe_N5ei"
   },
   "source": [
    "And this cell to test your implementation of the `Tanh` class:"
   ]
  },
  {
   "cell_type": "code",
   "execution_count": 11,
   "metadata": {
    "colab": {
     "base_uri": "https://localhost:8080/"
    },
    "executionInfo": {
     "elapsed": 11,
     "status": "ok",
     "timestamp": 1650011740635,
     "user": {
      "displayName": "Weber Anna",
      "userId": "18154618360144454414"
     },
     "user_tz": -120
    },
    "id": "Do-AHImrN5ei",
    "outputId": "b4c5a743-2ae6-4700-e052-4c9c4a220d08"
   },
   "outputs": [
    {
     "name": "stdout",
     "output_type": "stream",
     "text": [
      "TanhForwardTest passed.\n",
      "TanhBackwardTest passed.\n",
      "Congratulations you have passed all the unit tests!!! Tests passed: 2/2\n",
      "Score: 100/100\n",
      "You secured a score of :100\n"
     ]
    }
   ],
   "source": [
    "print(TanhTestWrapper()())"
   ]
  },
  {
   "cell_type": "markdown",
   "metadata": {
    "id": "Mw_iJW4dN5ej"
   },
   "source": [
    "Congratulations, you implemented four different activation functions! These activation layers are now ready to be used when you start building your own network."
   ]
  },
  {
   "cell_type": "markdown",
   "metadata": {
    "id": "3MhxqP2LN5ej"
   },
   "source": [
    "## 1.4 Loss\n",
    "\n",
    "In order to measure how well a network is performing, we implemented several ```Loss``` classes (```L1```, ```MSE```, ```BCE```, each preferred for a certain type of problems) in ```exercise_code/networks/loss.py```.\n",
    "\n",
    "Each contains a ```forward()``` method, which outputs a number we can use as a measure for our network's performance. \n",
    "\n",
    "Since our goal is to change the weights of the network in a way that this loss measure decreases, we are also interested in the gradients of the loss w.r.t the outputs of the network, $ \\nabla_{\\hat{y}} L({\\hat{y}}, {y}) $. This was implemented in ```backward()```. \n",
    "\n",
    "In previous exercises, we worked on binary classification problems and therefore used binary cross entropy (```BCE```) as a loss function.\n",
    "\n",
    "$$ BCE(\\hat{y}, y) = \\frac{1}{N} \\sum_{i=1}^N \\Big [-y_i \\log(\\hat{y_i}) - (1-y_i) \\log(1 - \\hat{y_i}) \\Big] $$ \n",
    "\n",
    "where\n",
    "- $ N $ was the number of samples we were considering\n",
    "- $\\hat{y}_i$ was the network's prediction for sample $i$. Note that this was a valid probability $\\in [0, 1]$, because we applied a [sigmoid](https://en.wikipedia.org/wiki/Sigmoid_function) activation on the last layer. \n",
    "- $ y_i $ was the ground truth label (0 or 1, depending on the class)\n",
    "\n",
    "Since we have 10 classes in the CIFAR10 dataset, we need a generalization of the binary cross entropy loss to multiple classes. This generalization is called the cross entropy loss and is defined as:\n",
    "$$ CE(\\hat{y}, y) = \\frac{1}{N} \\sum_{i=1}^N \\sum_{k=1}^{C} \\Big[ -y_{ik} \\log(\\hat{y}_{ik}) \\Big] $$\n",
    "\n",
    "where:\n",
    "- $ N $ is the number of samples\n",
    "- $ C $ is the number of classes\n",
    "- $ \\hat{y}_{ik} $ is the probability that the model assigns for the $k$th class when the $i$th sample is the input. **Because we don't apply any activation function on the last layer of our network, its outputs for each sample will not be a valid probability distribution over the classes. We call these the raw outputs of the network '[logits](https://datascience.stackexchange.com/questions/31041/what-does-logits-in-machine-learning-mean/31045)' and we will apply a [softmax](https://en.wikipedia.org/wiki/Softmax_function) activation in order to obtain a valid probability distribution.** \n",
    "- $y_{ik} = 1 $ iff the true label of the $i$th sample is $k$ and 0 otherwise. This is called a [one-hot encoding](https://machinelearningmastery.com/why-one-hot-encode-data-in-machine-learning/).\n",
    "\n",
    "You can check for yourself that if the number of classes $ C $ is 2, the binary cross entropy is actually equivalent to the cross entropy.\n",
    "\n",
    "<div class=\"alert alert-success\">\n",
    "    <h3>Task: Check Code</h3>\n",
    "    <p>Please check the implementation of the <code>CrossEntropyFromLogits</code> class, which can be found in <code>../exercise_06/exercise_code/networks/loss.py</code>. </p>\n",
    "</div>"
   ]
  },
  {
   "cell_type": "code",
   "execution_count": 12,
   "metadata": {
    "id": "EBPuFF0BN5ej"
   },
   "outputs": [],
   "source": [
    "loss = CrossEntropyFromLogits()"
   ]
  },
  {
   "cell_type": "markdown",
   "metadata": {
    "id": "y1HcQs25N5ek"
   },
   "source": [
    "We can simply get the results of the forward and backward passes as follows:"
   ]
  },
  {
   "cell_type": "markdown",
   "metadata": {
    "id": "Jv2aujOvN5ek"
   },
   "source": [
    "```python\n",
    "# y_out is the output of the neural network\n",
    "# y_truth is the actual label from the dataset\n",
    "loss.forward(y_out, y_truth)\n",
    "loss.backward(y_out, y_truth)\n",
    "```"
   ]
  },
  {
   "cell_type": "markdown",
   "metadata": {
    "id": "dbFSP4z9N5ek"
   },
   "source": [
    "## 1.5 Optimizer\n",
    "\n",
    "Now that we know the gradient of the loss w.r.t the ouputs of the network, as well as the local gradient for each layer of the network, we can use the chain rule to compute all gradients. \n",
    "\n",
    "<div class=\"alert alert-success\">\n",
    "    <h3>Task: Check Code</h3>\n",
    "    <p>We implemented several optimizer classes <code>SGD</code>, <code>Adam</code>, <code>sgd_momentum</code> that use different first-order parameter update rules. Those can be found in <code>../exercise_06/exercise_code/networks/optimizer.py</code>. </p>\n",
    "    <p>The <code>step()</code> method used, iterates through all the parameters of the model and updates them using the gradient information.</p>\n",
    "</div>\n",
    "\n",
    "What the optimizer is doing, in pseudocode, is the following:\n",
    "\n",
    "```python\n",
    "for param in model:\n",
    "    # Use the gradient to update the weights.\n",
    "    update(param)\n",
    "    \n",
    "    # Reset the gradient after each update.\n",
    "    param.gradient = 0\n",
    "```\n",
    "\n",
    "```SGD``` had the simplest update rule:\n",
    "```python\n",
    "def update(param):\n",
    "    param = param - learning_rate * param.gradient\n",
    "```\n",
    "\n",
    "For the more complicated update rules, see ```exercise_code/networks/optimizer.py```"
   ]
  },
  {
   "cell_type": "markdown",
   "metadata": {
    "id": "0TE2PxMBN5ek"
   },
   "source": [
    "## 1.6 Solver\n",
    "\n",
    "The ```Solver``` is where all the above elements come together: Given a train and a validation dataloader, a model, a loss and an optimizer, it uses the training data to optimize a model in order to get better predictions. We simply call ```train()``` and it does its 'magic' for us!\n",
    "```python\n",
    "solver = Solver(model, \n",
    "                dataloaders['train'], \n",
    "                dataloaders['val'], \n",
    "                learning_rate=0.001, \n",
    "                loss_func=MSE(), \n",
    "                optimizer=SGD)\n",
    "\n",
    "solver.train(epochs=epochs)\n",
    "```\n",
    "\n",
    "<div class=\"alert alert-success\">\n",
    "    <h3>Task: Check Code</h3>\n",
    "    <p>Please check out the implementation of <code>train()</code> in <code>../exercise_06/exercise_code/solver.py</code>. </p>\n",
    "</div>"
   ]
  },
  {
   "cell_type": "markdown",
   "metadata": {
    "id": "QUFotyERN5ek"
   },
   "source": [
    "## 1.7 Weight Regularization\n",
    "\n",
    "Before finishing the recap, we want to take a look at some regularization methods that have been introduced in the lecture. Those can be helpful to improve the robustness of our model. In this chapter, we're talking about weight regularization methods.\n",
    "\n",
    "Weight regularization has been introduced to you as a method preventing the model from overfitting to the training data. The weight regularization term is added to the final loss and therefore encodes some preference for a certain set of weights $W$ over others. In the lecture, we compared two weight regularization methods and their respective preference for weight vectors. We made the following observations: \n",
    "\n",
    "1. L1 regularization: Enforces sparsity \n",
    "2. L2 regularization: Enforces that weights have similar values\n",
    "\n",
    "The most common weight regularization method is the L2 regularization. The L2 regularization prefers smaller and more diffuse weight vectors. Therefore, the model is encouraged to take all input dimensions into account rather than focusing strongly on a small number of input dimensions.\n",
    "\n",
    "When using weight regularization, the loss function is a composition of two parts:\n",
    "$$L = \\underbrace{\\frac{1}{N} \\sum_{i} L_i}_{\\text{data loss}}  + \\underbrace{\\lambda R(W)}_{\\text{regularization loss}}$$\n",
    "The first being the data loss, which is calculated using Cross Entropy loss in our model. The second part is called the regularization loss $R(W)$ and is computed in the L2 case as follows:\n",
    "$$R(W) = \\sum_{k} \\sum_{l} w_{k,l}^2$$"
   ]
  },
  {
   "cell_type": "markdown",
   "metadata": {
    "id": "DxExi4hQN5el"
   },
   "source": [
    "# 2. An overview of hyperparameters"
   ]
  },
  {
   "cell_type": "markdown",
   "metadata": {
    "collapsed": true,
    "id": "OdQde3JEN5el"
   },
   "source": [
    "\n",
    "<img src=https://images.deepai.org/glossary-terms/05c646fe1676490aa0b8cab0732a02b2/hyperparams.png alt=hyperparameter width=700>\n",
    "\n",
    "A **hyperparameter** is a parameter that is set before the learning process begins. Recall that the parameters of the weight matrix and the bias vector are learned during the learning process.\n",
    "\n",
    "The hyperparameter settings are essential, since they control and affect the whole training and therefore have a great impact on the model's performance. \n",
    "\n",
    "Some hyperparameters we have covered in lectures are:\n",
    "* Network architecture\n",
    "    * Choice of activation function\n",
    "    * Number of layers\n",
    "    * ...\n",
    "* Learning rate\n",
    "* Number of epochs\n",
    "* Batch size\n",
    "* Regularization strength\n",
    "* Momentum\n",
    "* ..."
   ]
  },
  {
   "cell_type": "markdown",
   "metadata": {
    "id": "Rn6g8Zw1N5el"
   },
   "source": [
    "## 2.1 Start debugging your own network!"
   ]
  },
  {
   "cell_type": "markdown",
   "metadata": {
    "id": "hUoj3OgzN5el"
   },
   "source": [
    "As already suggested in the lectures, you should always start from small and simple architectures, to make sure you are going the right way. \n",
    "\n",
    "As a first step you should try to overfit to a single training sample, then to a few batches of training samples and finally go deeper with larger neural networks and the whole training data.\n",
    "\n",
    "We provide a default neural network (i.e. ClassificationNet) with arbitrary number of layers, which is a generalization from a fixed 2-layer neural network in exercise 5. You are welcome to implement your own network, in that case just implement **MyOwnNetwork** in ```exercise_code/networks/classification_net.py```. You can also copy things from ClassficationNet and make little adjustments to your own network. Either way, just pick one network and comment out the other one, then run the cells below for debugging.\n",
    "\n",
    "<div class=\"alert alert-warning\">\n",
    "    <h3>Note:</h3>\n",
    "    <p>Please, make sure you don't modify the ClassificationNet itself. In this way you can always have a working network to fall back on.</p>\n",
    "    <p>In order to pass this submissions, you can <b>first stick to the default ClassificationNet implementation without changing any code at all</b>. The goal of this submission is to find reasonable hyperparameters and the parameter options of the ClassificationNet are broad enough to pass.</p>\n",
    "    <p>Once you have surpassed the submission goal, you can try to implement additional activation functions in the accompanying notebook, try different weight initializations or make other adjustments by writing your own network architecture in the MyOwnNetwork class.</p>\n",
    "</div>"
   ]
  },
  {
   "cell_type": "markdown",
   "metadata": {
    "id": "gij9DxvmN5el"
   },
   "source": [
    "First, let's start with a 2-layer neural network, and overfit to one single training sample.\n",
    "\n",
    "After training, let's evaluate the training process by plotting the loss curves."
   ]
  },
  {
   "cell_type": "code",
   "execution_count": 13,
   "metadata": {
    "colab": {
     "base_uri": "https://localhost:8080/"
    },
    "executionInfo": {
     "elapsed": 20902,
     "status": "ok",
     "timestamp": 1650011761531,
     "user": {
      "displayName": "Weber Anna",
      "userId": "18154618360144454414"
     },
     "user_tz": -120
    },
    "id": "S1k3JrlsN5el",
    "outputId": "1193ba97-9871-489f-d6a5-f21a3869f09c"
   },
   "outputs": [
    {
     "name": "stdout",
     "output_type": "stream",
     "text": [
      "(Epoch 1 / 20) train loss: 2.327992; val loss: 2.333577\n",
      "(Epoch 2 / 20) train loss: 2.327992; val loss: 2.320803\n",
      "(Epoch 3 / 20) train loss: 2.201901; val loss: 2.329869\n",
      "(Epoch 4 / 20) train loss: 2.052337; val loss: 2.355061\n",
      "(Epoch 5 / 20) train loss: 1.881469; val loss: 2.387624\n",
      "(Epoch 6 / 20) train loss: 1.711020; val loss: 2.419109\n",
      "(Epoch 7 / 20) train loss: 1.556224; val loss: 2.443894\n",
      "(Epoch 8 / 20) train loss: 1.413779; val loss: 2.460766\n",
      "(Epoch 9 / 20) train loss: 1.277494; val loss: 2.472060\n",
      "(Epoch 10 / 20) train loss: 1.146821; val loss: 2.481483\n",
      "(Epoch 11 / 20) train loss: 1.022606; val loss: 2.492313\n",
      "(Epoch 12 / 20) train loss: 0.906329; val loss: 2.506576\n",
      "(Epoch 13 / 20) train loss: 0.800357; val loss: 2.524869\n",
      "(Epoch 14 / 20) train loss: 0.706310; val loss: 2.546673\n",
      "(Epoch 15 / 20) train loss: 0.624434; val loss: 2.571004\n",
      "(Epoch 16 / 20) train loss: 0.553740; val loss: 2.596932\n",
      "(Epoch 17 / 20) train loss: 0.492828; val loss: 2.623857\n",
      "(Epoch 18 / 20) train loss: 0.440498; val loss: 2.651549\n",
      "(Epoch 19 / 20) train loss: 0.395530; val loss: 2.680034\n",
      "(Epoch 20 / 20) train loss: 0.356914; val loss: 2.709408\n"
     ]
    }
   ],
   "source": [
    "from exercise_code.solver import Solver\n",
    "from exercise_code.networks.optimizer import SGD, Adam\n",
    "from exercise_code.networks import MyOwnNetwork\n",
    "\n",
    "num_layer = 2\n",
    "epochs = 20\n",
    "reg = 0.1\n",
    "batch_size = 4\n",
    "\n",
    "model = ClassificationNet(num_layer=num_layer, reg=reg)\n",
    "# model = MyOwnNetwork()\n",
    "\n",
    "loss = CrossEntropyFromLogits()\n",
    "\n",
    "# Make a new data loader with a single training image\n",
    "overfit_dataset = DATASET(\n",
    "    mode='train',\n",
    "    root=cifar_root, \n",
    "    download_url=download_url,\n",
    "    transform=compose_transform,\n",
    "    limit_files=1\n",
    ")\n",
    "dataloaders['train_overfit_single_image'] = DataLoader(\n",
    "    dataset=overfit_dataset,\n",
    "    batch_size=batch_size,\n",
    "    shuffle=True,\n",
    "    drop_last=False,\n",
    ")\n",
    "\n",
    "# Decrease validation data for only debugging\n",
    "debugging_validation_dataset = DATASET(\n",
    "    mode='val',\n",
    "    root=cifar_root, \n",
    "    download_url=download_url,\n",
    "    transform=compose_transform,\n",
    "    limit_files=100\n",
    ")\n",
    "dataloaders['val_500files'] = DataLoader(\n",
    "    dataset=debugging_validation_dataset,\n",
    "    batch_size=batch_size,\n",
    "    shuffle=True,\n",
    "    drop_last=True,\n",
    ")\n",
    "\n",
    "solver = Solver(model, dataloaders['train_overfit_single_image'], dataloaders['val_500files'], \n",
    "                learning_rate=1e-3, loss_func=loss, optimizer=Adam)\n",
    "\n",
    "solver.train(epochs=epochs)"
   ]
  },
  {
   "cell_type": "code",
   "execution_count": 14,
   "metadata": {
    "colab": {
     "base_uri": "https://localhost:8080/"
    },
    "executionInfo": {
     "elapsed": 434,
     "status": "ok",
     "timestamp": 1650011761941,
     "user": {
      "displayName": "Weber Anna",
      "userId": "18154618360144454414"
     },
     "user_tz": -120
    },
    "id": "aMc51VqHN5em",
    "outputId": "730d9eb6-6b24-4411-e6b9-c165a73a7e6e"
   },
   "outputs": [
    {
     "data": {
      "image/png": "[encoded data removed]",
      "text/plain": [
       "<Figure size 720x576 with 1 Axes>"
      ]
     },
     "metadata": {
      "needs_background": "light"
     },
     "output_type": "display_data"
    }
   ],
   "source": [
    "plt.title('Loss curves')\n",
    "plt.plot(solver.train_loss_history, '-', label='train')\n",
    "plt.plot(solver.val_loss_history, '-', label='val')\n",
    "plt.legend(loc='lower right')\n",
    "plt.xlabel('Iteration')\n",
    "plt.show()"
   ]
  },
  {
   "cell_type": "code",
   "execution_count": 15,
   "metadata": {
    "colab": {
     "base_uri": "https://localhost:8080/"
    },
    "executionInfo": {
     "elapsed": 244,
     "status": "ok",
     "timestamp": 1650011762177,
     "user": {
      "displayName": "Weber Anna",
      "userId": "18154618360144454414"
     },
     "user_tz": -120
    },
    "id": "cchvV2Q_N5em",
    "outputId": "6ba579ba-58ed-43e8-f3e7-97a51018ee4b"
   },
   "outputs": [
    {
     "name": "stdout",
     "output_type": "stream",
     "text": [
      "Training accuray: 1.00000\n",
      "Validation accuray: 0.07000\n"
     ]
    }
   ],
   "source": [
    "print(\"Training accuray: %.5f\" % (solver.get_dataset_accuracy(dataloaders['train_overfit_single_image'])))\n",
    "print(\"Validation accuray: %.5f\" % (solver.get_dataset_accuracy(dataloaders['val_500files'])))"
   ]
  },
  {
   "cell_type": "markdown",
   "metadata": {
    "id": "HeTCu8wwN5em"
   },
   "source": [
    "This time we want to overfit to a small set of training batch samples. Please observe the difference from above. "
   ]
  },
  {
   "cell_type": "code",
   "execution_count": 16,
   "metadata": {
    "colab": {
     "base_uri": "https://localhost:8080/"
    },
    "executionInfo": {
     "elapsed": 32205,
     "status": "ok",
     "timestamp": 1650011794379,
     "user": {
      "displayName": "Weber Anna",
      "userId": "18154618360144454414"
     },
     "user_tz": -120
    },
    "id": "SsIu_JaUN5em",
    "outputId": "81810746-ea3e-4a60-f3b7-dad4230c7231"
   },
   "outputs": [
    {
     "name": "stdout",
     "output_type": "stream",
     "text": [
      "(Epoch 1 / 100) train loss: 2.331938; val loss: 2.334331\n",
      "(Epoch 2 / 100) train loss: 2.325609; val loss: 2.337541\n",
      "(Epoch 3 / 100) train loss: 2.207519; val loss: 2.391639\n",
      "(Epoch 4 / 100) train loss: 2.048381; val loss: 2.439445\n",
      "(Epoch 5 / 100) train loss: 2.048479; val loss: 2.522273\n",
      "(Epoch 6 / 100) train loss: 1.925998; val loss: 2.566617\n",
      "(Epoch 7 / 100) train loss: 1.857588; val loss: 2.628791\n",
      "(Epoch 8 / 100) train loss: 1.725757; val loss: 2.711391\n",
      "(Epoch 9 / 100) train loss: 1.752357; val loss: 2.795958\n",
      "(Epoch 10 / 100) train loss: 1.810925; val loss: 2.842225\n",
      "(Epoch 11 / 100) train loss: 1.718056; val loss: 2.855684\n",
      "(Epoch 12 / 100) train loss: 1.646908; val loss: 2.979115\n",
      "(Epoch 13 / 100) train loss: 1.625130; val loss: 3.089495\n",
      "(Epoch 14 / 100) train loss: 1.672408; val loss: 3.119818\n",
      "(Epoch 15 / 100) train loss: 1.598648; val loss: 3.084452\n",
      "(Epoch 16 / 100) train loss: 1.674407; val loss: 3.100027\n",
      "(Epoch 17 / 100) train loss: 1.714083; val loss: 3.168348\n",
      "(Epoch 18 / 100) train loss: 1.656148; val loss: 3.252408\n",
      "(Epoch 19 / 100) train loss: 1.739993; val loss: 3.245475\n",
      "(Epoch 20 / 100) train loss: 1.561257; val loss: 3.253790\n",
      "(Epoch 21 / 100) train loss: 1.540376; val loss: 3.314405\n",
      "(Epoch 22 / 100) train loss: 1.646614; val loss: 3.308773\n",
      "(Epoch 23 / 100) train loss: 1.581151; val loss: 3.302904\n",
      "(Epoch 24 / 100) train loss: 1.422976; val loss: 3.371343\n",
      "(Epoch 25 / 100) train loss: 1.562293; val loss: 3.425782\n",
      "(Epoch 26 / 100) train loss: 1.647568; val loss: 3.397219\n",
      "(Epoch 27 / 100) train loss: 1.467402; val loss: 3.377734\n",
      "(Epoch 28 / 100) train loss: 1.495070; val loss: 3.354369\n",
      "(Epoch 29 / 100) train loss: 1.588650; val loss: 3.382466\n",
      "(Epoch 30 / 100) train loss: 1.483492; val loss: 3.407889\n",
      "(Epoch 31 / 100) train loss: 1.515264; val loss: 3.393643\n",
      "(Epoch 32 / 100) train loss: 1.466285; val loss: 3.401993\n",
      "(Epoch 33 / 100) train loss: 1.423159; val loss: 3.425434\n",
      "(Epoch 34 / 100) train loss: 1.400972; val loss: 3.430258\n",
      "(Epoch 35 / 100) train loss: 1.348053; val loss: 3.429814\n",
      "(Epoch 36 / 100) train loss: 1.329759; val loss: 3.433689\n",
      "(Epoch 37 / 100) train loss: 1.288834; val loss: 3.455196\n",
      "(Epoch 38 / 100) train loss: 1.348734; val loss: 3.464836\n",
      "(Epoch 39 / 100) train loss: 1.260980; val loss: 3.498036\n",
      "(Epoch 40 / 100) train loss: 1.358767; val loss: 3.473409\n",
      "(Epoch 41 / 100) train loss: 1.390493; val loss: 3.433425\n",
      "(Epoch 42 / 100) train loss: 1.292045; val loss: 3.491149\n",
      "(Epoch 43 / 100) train loss: 1.268652; val loss: 3.539978\n",
      "(Epoch 44 / 100) train loss: 1.330824; val loss: 3.513853\n",
      "(Epoch 45 / 100) train loss: 1.287729; val loss: 3.509725\n",
      "(Epoch 46 / 100) train loss: 1.290267; val loss: 3.519821\n",
      "(Epoch 47 / 100) train loss: 1.172291; val loss: 3.522474\n",
      "(Epoch 48 / 100) train loss: 1.195694; val loss: 3.491398\n",
      "(Epoch 49 / 100) train loss: 1.170439; val loss: 3.480601\n",
      "(Epoch 50 / 100) train loss: 1.119711; val loss: 3.482389\n",
      "(Epoch 51 / 100) train loss: 1.257560; val loss: 3.513039\n",
      "(Epoch 52 / 100) train loss: 1.181583; val loss: 3.600747\n",
      "(Epoch 53 / 100) train loss: 1.283340; val loss: 3.644795\n",
      "(Epoch 54 / 100) train loss: 1.265615; val loss: 3.624526\n",
      "(Epoch 55 / 100) train loss: 1.159158; val loss: 3.576834\n",
      "(Epoch 56 / 100) train loss: 1.182414; val loss: 3.551872\n",
      "(Epoch 57 / 100) train loss: 1.105850; val loss: 3.560429\n",
      "(Epoch 58 / 100) train loss: 1.130616; val loss: 3.571432\n",
      "(Epoch 59 / 100) train loss: 1.134558; val loss: 3.574873\n",
      "(Epoch 60 / 100) train loss: 1.027422; val loss: 3.568672\n",
      "(Epoch 61 / 100) train loss: 1.027777; val loss: 3.541614\n",
      "(Epoch 62 / 100) train loss: 1.071632; val loss: 3.526807\n",
      "(Epoch 63 / 100) train loss: 1.000724; val loss: 3.545189\n",
      "(Epoch 64 / 100) train loss: 1.001871; val loss: 3.569452\n",
      "(Epoch 65 / 100) train loss: 1.005035; val loss: 3.568322\n",
      "(Epoch 66 / 100) train loss: 1.012345; val loss: 3.581639\n",
      "(Epoch 67 / 100) train loss: 1.031481; val loss: 3.623874\n",
      "(Epoch 68 / 100) train loss: 1.022743; val loss: 3.655385\n",
      "(Epoch 69 / 100) train loss: 1.002597; val loss: 3.638895\n",
      "(Epoch 70 / 100) train loss: 1.047481; val loss: 3.595655\n",
      "(Epoch 71 / 100) train loss: 1.074237; val loss: 3.591181\n",
      "(Epoch 72 / 100) train loss: 1.023344; val loss: 3.627247\n",
      "(Epoch 73 / 100) train loss: 0.985536; val loss: 3.649597\n",
      "(Epoch 74 / 100) train loss: 0.956673; val loss: 3.626058\n",
      "(Epoch 75 / 100) train loss: 0.953968; val loss: 3.563884\n",
      "(Epoch 76 / 100) train loss: 0.932819; val loss: 3.543700\n",
      "(Epoch 77 / 100) train loss: 0.907463; val loss: 3.561685\n",
      "(Epoch 78 / 100) train loss: 0.920114; val loss: 3.581150\n",
      "(Epoch 79 / 100) train loss: 0.902032; val loss: 3.603120\n",
      "(Epoch 80 / 100) train loss: 0.899427; val loss: 3.566424\n",
      "(Epoch 81 / 100) train loss: 0.928899; val loss: 3.577112\n",
      "(Epoch 82 / 100) train loss: 0.924480; val loss: 3.587221\n",
      "(Epoch 83 / 100) train loss: 0.964044; val loss: 3.580696\n",
      "(Epoch 84 / 100) train loss: 0.874808; val loss: 3.583204\n",
      "(Epoch 85 / 100) train loss: 0.938830; val loss: 3.587788\n",
      "(Epoch 86 / 100) train loss: 0.853180; val loss: 3.594803\n",
      "(Epoch 87 / 100) train loss: 0.909091; val loss: 3.579225\n",
      "(Epoch 88 / 100) train loss: 0.899377; val loss: 3.540678\n",
      "(Epoch 89 / 100) train loss: 0.877273; val loss: 3.561657\n",
      "(Epoch 90 / 100) train loss: 0.851209; val loss: 3.592029\n",
      "(Epoch 91 / 100) train loss: 0.860576; val loss: 3.592714\n",
      "(Epoch 92 / 100) train loss: 0.917568; val loss: 3.586197\n",
      "(Epoch 93 / 100) train loss: 0.916384; val loss: 3.648954\n",
      "(Epoch 94 / 100) train loss: 1.027391; val loss: 3.628603\n",
      "(Epoch 95 / 100) train loss: 0.898212; val loss: 3.659187\n",
      "(Epoch 96 / 100) train loss: 0.937496; val loss: 3.673554\n",
      "(Epoch 97 / 100) train loss: 0.982593; val loss: 3.657673\n",
      "(Epoch 98 / 100) train loss: 0.895751; val loss: 3.655952\n",
      "(Epoch 99 / 100) train loss: 0.840275; val loss: 3.596174\n",
      "(Epoch 100 / 100) train loss: 0.906998; val loss: 3.558889\n"
     ]
    }
   ],
   "source": [
    "from exercise_code.networks import MyOwnNetwork\n",
    "\n",
    "num_layer = 2\n",
    "epochs = 100\n",
    "reg = 0.1\n",
    "num_samples = 10\n",
    "\n",
    "model = ClassificationNet(num_layer=num_layer, reg=reg)\n",
    "# model = MyOwnNetwork()\n",
    "\n",
    "loss = CrossEntropyFromLogits()\n",
    "\n",
    "# Make a new data loader with a our num_samples training image\n",
    "overfit_dataset = DATASET(\n",
    "    mode='train',\n",
    "    root=cifar_root, \n",
    "    download_url=download_url,\n",
    "    transform=compose_transform,\n",
    "    limit_files=num_samples\n",
    ")\n",
    "dataloaders['train_overfit_10samples'] = DataLoader(\n",
    "    dataset=overfit_dataset,\n",
    "    batch_size=batch_size,\n",
    "    shuffle=True,\n",
    "    drop_last=False,\n",
    ")\n",
    "\n",
    "solver = Solver(model, dataloaders['train_overfit_10samples'], dataloaders['val_500files'], \n",
    "                learning_rate=1e-3, loss_func=loss, optimizer=Adam)\n",
    "\n",
    "solver.train(epochs=epochs)"
   ]
  },
  {
   "cell_type": "code",
   "execution_count": 17,
   "metadata": {
    "colab": {
     "base_uri": "https://localhost:8080/"
    },
    "executionInfo": {
     "elapsed": 15,
     "status": "ok",
     "timestamp": 1650011794380,
     "user": {
      "displayName": "Weber Anna",
      "userId": "18154618360144454414"
     },
     "user_tz": -120
    },
    "id": "DmzTCYw_N5en",
    "outputId": "8076912f-608c-497c-e092-3da5e9e8ddcd"
   },
   "outputs": [
    {
     "data": {
      "image/png": "[encoded data removed]",
      "text/plain": [
       "<Figure size 720x576 with 1 Axes>"
      ]
     },
     "metadata": {
      "needs_background": "light"
     },
     "output_type": "display_data"
    }
   ],
   "source": [
    "plt.title('Loss curves')\n",
    "plt.plot(solver.train_loss_history, '-', label='train')\n",
    "plt.plot(solver.val_loss_history, '-', label='val')\n",
    "plt.legend(loc='lower right')\n",
    "plt.xlabel('Iteration')\n",
    "plt.show()"
   ]
  },
  {
   "cell_type": "code",
   "execution_count": 18,
   "metadata": {
    "colab": {
     "base_uri": "https://localhost:8080/"
    },
    "executionInfo": {
     "elapsed": 822,
     "status": "ok",
     "timestamp": 1650011795194,
     "user": {
      "displayName": "Weber Anna",
      "userId": "18154618360144454414"
     },
     "user_tz": -120
    },
    "id": "8H8xyMcaN5en",
    "outputId": "55c1d949-949d-414f-8a34-fa85faa9ed9b"
   },
   "outputs": [
    {
     "name": "stdout",
     "output_type": "stream",
     "text": [
      "Training accuray: 1.00000\n",
      "Validation accuray: 0.06000\n"
     ]
    }
   ],
   "source": [
    "print(\"Training accuray: %.5f\" % (solver.get_dataset_accuracy(dataloaders['train_overfit_10samples'])))\n",
    "print(\"Validation accuray: %.5f\" % (solver.get_dataset_accuracy(dataloaders['val_500files'])))"
   ]
  },
  {
   "cell_type": "markdown",
   "metadata": {
    "id": "7PoTJskAN5en"
   },
   "source": [
    "If you're overfitting to the training data, that means the network's implementation is correct. However, as you have more samples to overfit, your accuracy will be way lower. You can increase the number of epochs above to achieve better results.\n",
    "\n",
    "Now let's try to feed all the training and validation data into the network, but this time let's set compare a 2-layer and a 5-layer network, using the same hyperparameters.\n",
    "\n",
    "<div class=\"alert alert-warning\">\n",
    "    <h3>Note:</h3>\n",
    "    <p>This may take about 1 min per epoch as the training set is quite large. For convenience, we are now only using 1000 images for training but use the full validation set.</p>\n",
    "</div>"
   ]
  },
  {
   "cell_type": "code",
   "execution_count": 19,
   "metadata": {
    "colab": {
     "background_save": true
    },
    "id": "ayhMGBUBN5en",
    "outputId": "0f77d4ee-a8c9-4ddc-e538-c1818c306acf"
   },
   "outputs": [
    {
     "name": "stdout",
     "output_type": "stream",
     "text": [
      "(Epoch 1 / 50) train loss: 2.305701; val loss: 2.305666\n",
      "(Epoch 2 / 50) train loss: 2.278313; val loss: 2.217917\n",
      "(Epoch 3 / 50) train loss: 2.229720; val loss: 2.238025\n",
      "(Epoch 4 / 50) train loss: 2.225433; val loss: 2.224318\n",
      "(Epoch 5 / 50) train loss: 2.221056; val loss: 2.222465\n",
      "(Epoch 6 / 50) train loss: 2.214150; val loss: 2.234450\n",
      "(Epoch 7 / 50) train loss: 2.222419; val loss: 2.267933\n",
      "(Epoch 8 / 50) train loss: 2.211119; val loss: 2.266136\n",
      "(Epoch 9 / 50) train loss: 2.210001; val loss: 2.258181\n",
      "(Epoch 10 / 50) train loss: 2.209888; val loss: 2.291639\n",
      "(Epoch 11 / 50) train loss: 2.201142; val loss: 2.255905\n",
      "(Epoch 12 / 50) train loss: 2.192910; val loss: 2.246186\n",
      "(Epoch 13 / 50) train loss: 2.210251; val loss: 2.247932\n",
      "(Epoch 14 / 50) train loss: 2.211963; val loss: 2.266111\n",
      "(Epoch 15 / 50) train loss: 2.201379; val loss: 2.282868\n",
      "(Epoch 16 / 50) train loss: 2.187505; val loss: 2.253749\n",
      "(Epoch 17 / 50) train loss: 2.200673; val loss: 2.261682\n",
      "(Epoch 18 / 50) train loss: 2.190990; val loss: 2.245082\n",
      "(Epoch 19 / 50) train loss: 2.206043; val loss: 2.236525\n",
      "(Epoch 20 / 50) train loss: 2.182212; val loss: 2.293669\n",
      "(Epoch 21 / 50) train loss: 2.193408; val loss: 2.313287\n",
      "(Epoch 22 / 50) train loss: 2.175719; val loss: 2.288176\n",
      "(Epoch 23 / 50) train loss: 2.172992; val loss: 2.253023\n",
      "(Epoch 24 / 50) train loss: 2.191039; val loss: 2.240389\n",
      "(Epoch 25 / 50) train loss: 2.197850; val loss: 2.278071\n",
      "(Epoch 26 / 50) train loss: 2.175115; val loss: 2.247306\n",
      "(Epoch 27 / 50) train loss: 2.174187; val loss: 2.281011\n",
      "(Epoch 28 / 50) train loss: 2.175269; val loss: 2.272073\n",
      "(Epoch 29 / 50) train loss: 2.178500; val loss: 2.297403\n",
      "(Epoch 30 / 50) train loss: 2.200851; val loss: 2.280809\n",
      "(Epoch 31 / 50) train loss: 2.175733; val loss: 2.319927\n",
      "(Epoch 32 / 50) train loss: 2.187226; val loss: 2.294064\n",
      "(Epoch 33 / 50) train loss: 2.165731; val loss: 2.277391\n",
      "(Epoch 34 / 50) train loss: 2.182592; val loss: 2.253563\n",
      "(Epoch 35 / 50) train loss: 2.173382; val loss: 2.227155\n",
      "(Epoch 36 / 50) train loss: 2.166211; val loss: 2.248378\n",
      "(Epoch 37 / 50) train loss: 2.165201; val loss: 2.312366\n",
      "(Epoch 38 / 50) train loss: 2.162765; val loss: 2.248714\n",
      "(Epoch 39 / 50) train loss: 2.177588; val loss: 2.259426\n",
      "(Epoch 40 / 50) train loss: 2.167935; val loss: 2.290195\n",
      "(Epoch 41 / 50) train loss: 2.170612; val loss: 2.267134\n",
      "(Epoch 42 / 50) train loss: 2.175115; val loss: 2.261038\n",
      "(Epoch 43 / 50) train loss: 2.166051; val loss: 2.249479\n",
      "(Epoch 44 / 50) train loss: 2.169049; val loss: 2.292175\n",
      "(Epoch 45 / 50) train loss: 2.173227; val loss: 2.275148\n",
      "(Epoch 46 / 50) train loss: 2.163648; val loss: 2.301109\n",
      "(Epoch 47 / 50) train loss: 2.169115; val loss: 2.303372\n",
      "(Epoch 48 / 50) train loss: 2.162084; val loss: 2.271624\n",
      "(Epoch 49 / 50) train loss: 2.162885; val loss: 2.267452\n",
      "(Epoch 50 / 50) train loss: 2.148210; val loss: 2.265241\n"
     ]
    }
   ],
   "source": [
    "from exercise_code.networks import MyOwnNetwork\n",
    "\n",
    "num_layer = 2\n",
    "epochs = 50\n",
    "reg = 0.01\n",
    "\n",
    "# Make a new data loader with 1000 training samples\n",
    "num_samples = 1000\n",
    "overfit_dataset = DATASET(\n",
    "    mode='train',\n",
    "    root=cifar_root, \n",
    "    download_url=download_url,\n",
    "    transform=compose_transform,\n",
    "    limit_files=num_samples\n",
    ")\n",
    "dataloaders['train_small'] = DataLoader(\n",
    "    dataset=overfit_dataset,\n",
    "    batch_size=batch_size,\n",
    "    shuffle=True,\n",
    "    drop_last=False,\n",
    ")\n",
    "\n",
    "\n",
    "# Change here if you want to use the full training set\n",
    "use_full_training_set = False\n",
    "if not use_full_training_set:\n",
    "    train_loader = dataloaders['train_small']\n",
    "else:\n",
    "    train_loader = dataloaders['train']\n",
    "    \n",
    "\n",
    "model = ClassificationNet(num_layer=num_layer, reg=reg)\n",
    "# model = MyOwnNetwork()\n",
    "\n",
    "loss = CrossEntropyFromLogits()\n",
    "\n",
    "solver = Solver(model, train_loader, dataloaders['val'], \n",
    "                learning_rate=1e-3, loss_func=loss, optimizer=Adam)\n",
    "\n",
    "solver.train(epochs=epochs)"
   ]
  },
  {
   "cell_type": "code",
   "execution_count": 20,
   "metadata": {
    "colab": {
     "background_save": true
    },
    "id": "3htGtgttN5en",
    "outputId": "6336d86c-13c1-40e5-9080-7aa5ed774959"
   },
   "outputs": [
    {
     "data": {
      "image/png": "[encoded data removed]",
      "text/plain": [
       "<Figure size 720x576 with 1 Axes>"
      ]
     },
     "metadata": {
      "needs_background": "light"
     },
     "output_type": "display_data"
    }
   ],
   "source": [
    "plt.title('Loss curves')\n",
    "plt.plot(solver.train_loss_history, '-', label='train')\n",
    "plt.plot(solver.val_loss_history, '-', label='val')\n",
    "plt.legend(loc='lower right')\n",
    "plt.xlabel('Iteration')\n",
    "plt.show()"
   ]
  },
  {
   "cell_type": "code",
   "execution_count": 21,
   "metadata": {
    "colab": {
     "background_save": true
    },
    "id": "oOVafQ7yN5eo",
    "outputId": "7207ecce-50aa-4e80-83ee-1d05529ab23a"
   },
   "outputs": [
    {
     "name": "stdout",
     "output_type": "stream",
     "text": [
      "Training accuray: 0.37400\n",
      "Validation accuray: 0.29077\n"
     ]
    }
   ],
   "source": [
    "print(\"Training accuray: %.5f\" % (solver.get_dataset_accuracy(train_loader)))\n",
    "print(\"Validation accuray: %.5f\" % (solver.get_dataset_accuracy(dataloaders['val'])))"
   ]
  },
  {
   "cell_type": "code",
   "execution_count": 22,
   "metadata": {
    "colab": {
     "background_save": true
    },
    "id": "vG9U5OmwN5eo",
    "outputId": "4aa8426b-eea9-4be8-bc08-6add66c4cf82"
   },
   "outputs": [
    {
     "name": "stdout",
     "output_type": "stream",
     "text": [
      "(Epoch 1 / 5) train loss: 2.305937; val loss: 2.305991\n",
      "(Epoch 2 / 5) train loss: 2.321321; val loss: 2.317827\n",
      "(Epoch 3 / 5) train loss: 2.318593; val loss: 2.325724\n",
      "(Epoch 4 / 5) train loss: 2.325395; val loss: 2.314759\n",
      "(Epoch 5 / 5) train loss: 2.314670; val loss: 2.318548\n"
     ]
    }
   ],
   "source": [
    "from exercise_code.networks import MyOwnNetwork\n",
    "\n",
    "num_layer = 5\n",
    "epochs = 5\n",
    "reg = 0.01\n",
    "\n",
    "model = ClassificationNet(num_layer=num_layer, reg=reg)\n",
    "# model = MyOwnNetwork()\n",
    "\n",
    "# Change here if you want to use the full training set\n",
    "use_full_training_set = False\n",
    "if not use_full_training_set:\n",
    "    train_loader = dataloaders['train_small']\n",
    "else:\n",
    "    train_loader = dataloaders['train']\n",
    "\n",
    "loss = CrossEntropyFromLogits()\n",
    "\n",
    "solver = Solver(model, train_loader, dataloaders['val'], \n",
    "                learning_rate=1e-3, loss_func=loss, optimizer=Adam)\n",
    "\n",
    "solver.train(epochs=epochs)"
   ]
  },
  {
   "cell_type": "code",
   "execution_count": 23,
   "metadata": {
    "colab": {
     "background_save": true
    },
    "id": "08XZk2GYN5eo",
    "outputId": "3d04c7c9-a0ce-4522-c858-e9491fca8102"
   },
   "outputs": [
    {
     "data": {
      "image/png": "[encoded data removed]",
      "text/plain": [
       "<Figure size 720x576 with 1 Axes>"
      ]
     },
     "metadata": {
      "needs_background": "light"
     },
     "output_type": "display_data"
    }
   ],
   "source": [
    "plt.title('Loss curves')\n",
    "plt.plot(solver.train_loss_history, '-', label='train')\n",
    "plt.plot(solver.val_loss_history, '-', label='val')\n",
    "plt.legend(loc='lower right')\n",
    "plt.xlabel('Iteration')\n",
    "plt.show()"
   ]
  },
  {
   "cell_type": "code",
   "execution_count": 24,
   "metadata": {
    "colab": {
     "background_save": true
    },
    "id": "7-sI0yyWN5eo",
    "outputId": "29f489a2-6899-410e-9e82-8026cb77d505"
   },
   "outputs": [
    {
     "name": "stdout",
     "output_type": "stream",
     "text": [
      "Training accuray: 0.09700\n",
      "Validation accuray: 0.10006\n"
     ]
    }
   ],
   "source": [
    "print(\"Training accuray: %.5f\" % (solver.get_dataset_accuracy(train_loader)))\n",
    "print(\"Validation accuray: %.5f\" % (solver.get_dataset_accuracy(dataloaders['val'])))"
   ]
  },
  {
   "cell_type": "markdown",
   "metadata": {
    "id": "_nNdnSi4N5eo"
   },
   "source": [
    "As you can see from above, the same hyperparameter set can decrease the loss for a 2-layer network, but for 5-layer network, it hardly works.\n",
    "\n",
    "The steps above are already mentioned in the lectures as debugging steps before training a neural network. \n",
    "\n",
    "If you implement your own network, make sure you do the steps above before tuning the hyperparameters as below. "
   ]
  },
  {
   "cell_type": "markdown",
   "metadata": {
    "id": "l0pZa4weN5eo"
   },
   "source": [
    "## 2.2 Difficulty in tuning hyperparameters\n",
    "Small decisions on hyperparameters count. Usually, but not always, hyperparameters cannot be learned using well known gradient based methods (such as gradient descent), which are commonly employed to learn parameters. \n",
    "\n",
    "As mentioned before, hyperparameters need to be set before training. Tuning hyperparameters is hard, because you always have to try different combinations of the hyperparameters, train the network, do the validation and pick the best one. Besides, it is not guaranteed that you'll find the best combination.\n",
    "\n",
    "Let's do some hands on learning using the hyperparameter tuning methods covered in the lectures."
   ]
  },
  {
   "cell_type": "markdown",
   "metadata": {
    "id": "pDQl6fY6N5ep"
   },
   "source": [
    "# 3. Hyperparameter Tuning\n",
    "\n",
    "![alt text](https://blog.floydhub.com/content/images/2018/08/Screen-Shot-2018-08-22-at-17.59.25.png \"\")\n",
    "\n",
    "One of the main challenges in deep learning is finding the set of hyperparameters that performs best.\n",
    "\n",
    "So far, we have followed a manual approach by guessing hyperparameters, running the model, observing the result and maybe tweaking the hyperparameters based on this result. As you have probably noticed, this manual hyperparameter tuning is unstructured, inefficient and can become very tedious.\n",
    "\n",
    "\n",
    "A more systematic (and actually very simple) approach for hyperparameter tuning that you've already learned in the lecture  is implementing a **Grid Search**. \n",
    "\n",
    "\n",
    "\n",
    "## 3.1 Grid Search\n",
    "Grid search is a simple and naive, yet effective method to automate the hyperparameter tuning:\n",
    "\n",
    "* First, you define the set of parameters you want to tune, e.g. $\\{learning\\_rate, regularization\\_strength\\}$.\n",
    "\n",
    "* For each hyperparameter, you then define a set of possible values, e.g. $learning\\_rate = \\{0.0001, 0.001, 0.01, 0.1\\}$.\n",
    "\n",
    "* Then, you train a model for every possible combination of these hyperparameter values and afterwards select the combination that works best (e.g. in terms of accuracy on your validation set).\n",
    "\n",
    "<div class=\"alert alert-success\">\n",
    "    <h3>Task: Check Code</h3>\n",
    "    <p>Check out our <code>grid_search</code> implementation in <code>../exercise_6/exercise_code/hyperparameter_tuning.py</code>. We show a simple for loop implementation and a more sophisticated one for multiple inputs. </p>\n",
    "</div>\n",
    " \n",
    " <div class=\"alert alert-warning\">\n",
    "    <h3>Note:</h3>\n",
    "    <p>To keep things simple in the beginning, it'll be enough to just focus on the hyperparameters <code>learning_rate</code> and <code>regularization_strength</code> here, as in the example above.</p>\n",
    "</div>"
   ]
  },
  {
   "cell_type": "code",
   "execution_count": 25,
   "metadata": {
    "colab": {
     "background_save": true
    },
    "id": "BBW9Vl4rN5ep",
    "outputId": "39d57fd3-e250-4826-d0b6-89952b9ae73b"
   },
   "outputs": [
    {
     "name": "stdout",
     "output_type": "stream",
     "text": [
      "\n",
      "Evaluating Config #1 [of 3]:\n",
      " {'learning_rate': 0.01, 'reg': 0.0001}\n",
      "(Epoch 1 / 10) train loss: 2.302798; val loss: 2.303307\n",
      "(Epoch 2 / 10) train loss: 2.535467; val loss: 2.654431\n",
      "(Epoch 3 / 10) train loss: 2.750646; val loss: 2.619949\n",
      "(Epoch 4 / 10) train loss: 2.934460; val loss: 3.017493\n",
      "(Epoch 5 / 10) train loss: 3.035084; val loss: 3.204044\n"
     ]
    },
    {
     "name": "stderr",
     "output_type": "stream",
     "text": [
      "/home/jun/Git_Repo/hw_i2dl/exercise_06/exercise_code/networks/layer.py:66: RuntimeWarning: overflow encountered in exp\n",
      "  outputs = 1 / (1 + np.exp(-x))\n"
     ]
    },
    {
     "name": "stdout",
     "output_type": "stream",
     "text": [
      "(Epoch 6 / 10) train loss: 3.127015; val loss: 3.134428\n",
      "Stopping early at epoch 5!\n",
      "\n",
      "Evaluating Config #2 [of 3]:\n",
      " {'learning_rate': 0.001, 'reg': 0.0001}\n",
      "(Epoch 1 / 10) train loss: 2.302423; val loss: 2.301913\n",
      "(Epoch 2 / 10) train loss: 2.229140; val loss: 2.119711\n",
      "(Epoch 3 / 10) train loss: 2.070926; val loss: 2.013566\n",
      "(Epoch 4 / 10) train loss: 1.945748; val loss: 1.967715\n",
      "(Epoch 5 / 10) train loss: 1.871882; val loss: 1.896179\n",
      "(Epoch 6 / 10) train loss: 1.796331; val loss: 1.882472\n",
      "(Epoch 7 / 10) train loss: 1.730298; val loss: 1.912618\n",
      "(Epoch 8 / 10) train loss: 1.670906; val loss: 1.948813\n",
      "(Epoch 9 / 10) train loss: 1.605013; val loss: 1.968799\n",
      "(Epoch 10 / 10) train loss: 1.550242; val loss: 1.922753\n",
      "\n",
      "Evaluating Config #3 [of 3]:\n",
      " {'learning_rate': 0.0001, 'reg': 0.0001}\n",
      "(Epoch 1 / 10) train loss: 2.302459; val loss: 2.301831\n",
      "(Epoch 2 / 10) train loss: 2.285891; val loss: 2.237650\n",
      "(Epoch 3 / 10) train loss: 2.206910; val loss: 2.147662\n",
      "(Epoch 4 / 10) train loss: 2.131408; val loss: 2.084407\n",
      "(Epoch 5 / 10) train loss: 2.074509; val loss: 2.043464\n",
      "(Epoch 6 / 10) train loss: 2.026080; val loss: 2.000768\n",
      "(Epoch 7 / 10) train loss: 1.984378; val loss: 1.984049\n",
      "(Epoch 8 / 10) train loss: 1.946081; val loss: 1.950379\n",
      "(Epoch 9 / 10) train loss: 1.910227; val loss: 1.933703\n",
      "(Epoch 10 / 10) train loss: 1.877129; val loss: 1.924524\n",
      "\n",
      "Search done. Best Val Loss = 1.8824718259841473\n",
      "Best Config: {'learning_rate': 0.001, 'reg': 0.0001}\n"
     ]
    }
   ],
   "source": [
    "from exercise_code.networks import MyOwnNetwork\n",
    "\n",
    "# Specify the used network\n",
    "model_class = ClassificationNet\n",
    "\n",
    "from exercise_code import hyperparameter_tuning\n",
    "best_model, results = hyperparameter_tuning.grid_search(\n",
    "    dataloaders['train_small'], dataloaders['val_500files'],\n",
    "    grid_search_spaces = {\n",
    "        \"learning_rate\": [1e-2, 1e-3, 1e-4], \n",
    "        \"reg\": [1e-4]\n",
    "    },\n",
    "    model_class=model_class,\n",
    "    epochs=10, patience=5)"
   ]
  },
  {
   "cell_type": "markdown",
   "metadata": {
    "id": "5v0g7q9xN5ep"
   },
   "source": [
    "From the results of your grid search, you might already have found some hyperparameter combinations that work better than others. A common practice is to now repeat the grid search on a more narrow domain centered around the parameters that worked best. \n",
    "\n",
    "**Conclusion Grid Search**\n",
    "\n",
    "With grid search we have automated the hyperparameter tuning to a certain degree. Another advantage is, that since the trainings of the models are independent of each other, you can parallelize the grid search, by e.g. trying out different hyperparameter configurations in parallel on different machines.\n",
    "\n",
    "However, as you have probably noticed, there is one big problem with this approach: the number of possible combinations grows exponentially with the number of hyperparameters (\"curse of dimensionality\"). As we add more hyperparameters to the grid search, the search space will explode in time complexity, making this strategy unfeasible."
   ]
  },
  {
   "cell_type": "markdown",
   "metadata": {
    "id": "m_NvhoFcN5ep"
   },
   "source": [
    "Especially when your search space contains more than 3 or 4 dimensions, it is often better to use another, similar hyperparameter tuning method that you've already learned about: random search."
   ]
  },
  {
   "cell_type": "markdown",
   "metadata": {
    "id": "rDyeiAN1N5ep"
   },
   "source": [
    "## 3.2 Random Search\n",
    "Random search is very similar to grid search, with the only difference, that instead of providing specific values for every hyperparameter, you only define a range for each hyperparameter - then, the values are sampled randomly from the provided ranges.\n",
    "\n",
    "![alt text](https://i.stack.imgur.com/cIDuR.png \"\")\n",
    "\n",
    "The figure above illustrates the difference in the hyperparameter space exploration between grid search and random search: assume you have 2 hyperparameters with each 3 values. Running a grid search results in training $3^2=9$ different models - but in the end, you've just tired out 3 values for each parameter. For random search on the other hand, after training 9 models you'll have tried out 9 different values for each hyperparameter, which often leads much faster to good results.\n",
    "\n",
    "To get a deeper understanding of random search and why it is more efficient than grid search, you should definitely check out this paper: http://www.jmlr.org/papers/volume13/bergstra12a/bergstra12a.pdf\n",
    "\n",
    "<div class=\"alert alert-success\">\n",
    "    <h3>Task: Check Code</h3>\n",
    "    <p>Check out our <code>random_search</code> implementation in <code>../exercise_6/exercise_code/hyperparameter_tuning.py</code></p>\n",
    "</div>\n",
    "\n",
    "\n",
    "*Hint: regarding the sample space of each parameter, think about the scale for which it makes most sense to sample in. For example the learning rate is usually sampled on a logarithmic scale!*\n",
    "\n",
    "*For simplicity and speed, just use the `train_batches`-dataloader!*"
   ]
  },
  {
   "cell_type": "code",
   "execution_count": 26,
   "metadata": {
    "colab": {
     "background_save": true
    },
    "id": "d64soT68N5ep",
    "outputId": "eafe47b6-33db-401e-8d4e-96573caa8048"
   },
   "outputs": [
    {
     "name": "stdout",
     "output_type": "stream",
     "text": [
      "\n",
      "Evaluating Config #1 [of 1]:\n",
      " {'learning_rate': 0.0053735824724576164, 'reg': 8.291609012263702e-07, 'loss_func': <exercise_code.networks.loss.CrossEntropyFromLogits object at 0x7fdbb329e3e0>}\n",
      "(Epoch 1 / 20) train loss: 2.302503; val loss: 2.302259\n",
      "(Epoch 2 / 20) train loss: 2.237116; val loss: 2.117785\n",
      "(Epoch 3 / 20) train loss: 2.068483; val loss: 2.012778\n",
      "(Epoch 4 / 20) train loss: 2.012370; val loss: 1.968494\n",
      "(Epoch 5 / 20) train loss: 1.968322; val loss: 2.077381\n",
      "(Epoch 6 / 20) train loss: 1.941088; val loss: 2.071582\n",
      "(Epoch 7 / 20) train loss: 1.903928; val loss: 1.978931\n",
      "(Epoch 8 / 20) train loss: 1.840370; val loss: 1.954813\n",
      "(Epoch 9 / 20) train loss: 1.840645; val loss: 2.017180\n",
      "(Epoch 10 / 20) train loss: 1.826866; val loss: 2.075646\n",
      "(Epoch 11 / 20) train loss: 1.860023; val loss: 1.985523\n",
      "(Epoch 12 / 20) train loss: 1.782753; val loss: 2.004678\n",
      "(Epoch 13 / 20) train loss: 1.742433; val loss: 2.072589\n",
      "Stopping early at epoch 12!\n",
      "\n",
      "Search done. Best Val Loss = 1.9548128327657903\n",
      "Best Config: {'learning_rate': 0.0053735824724576164, 'reg': 8.291609012263702e-07, 'loss_func': <exercise_code.networks.loss.CrossEntropyFromLogits object at 0x7fdbb329e3e0>}\n"
     ]
    }
   ],
   "source": [
    "from exercise_code.hyperparameter_tuning import random_search\n",
    "from exercise_code.networks import MyOwnNetwork\n",
    "\n",
    "# Specify the used network\n",
    "model_class = ClassificationNet\n",
    "\n",
    "best_model, results = random_search(\n",
    "    dataloaders['train_small'], dataloaders['val_500files'],\n",
    "    random_search_spaces = {\n",
    "        \"learning_rate\": ([1e-2, 1e-6], 'log'),\n",
    "        \"reg\": ([1e-3, 1e-7], \"log\"),\n",
    "        \"loss_func\": ([CrossEntropyFromLogits()], \"item\")\n",
    "    },\n",
    "    model_class=model_class,\n",
    "    num_search = 1, epochs=20, patience=5)"
   ]
  },
  {
   "cell_type": "markdown",
   "metadata": {
    "id": "LayF5YYbN5eq"
   },
   "source": [
    "It's time to run it with the whole dataset, and let it search for a few hours for a nice configuration. \n",
    "\n",
    "However, to save some time, let's first implement an **early-stopping** mechanism, that you also already know from the lecture."
   ]
  },
  {
   "cell_type": "markdown",
   "metadata": {
    "id": "DCaACnn3N5eq"
   },
   "source": [
    "## 3.3 Early Stopping"
   ]
  },
  {
   "cell_type": "markdown",
   "metadata": {
    "id": "IjsO1OPLN5eq"
   },
   "source": [
    "By now you've already seen a lot of training curves:\n",
    "\n",
    "<img src=http://fouryears.eu/wp-content/uploads/2017/12/early_stopping.png></img>\n",
    "\n",
    "Usually, at some point the validation loss goes up again, which is a sign that we're overfitting to our training data. Since it actually doesn't make sense to train further at this point, it's common practice to apply \"early stopping\", i.e., **cancel the training process when the validation loss doesn't improve anymore**. The nice thing about this concept is, that not only it improves generalization through the prevention of overfitting, but also it saves us a lot of time - one of our most valuable resources in deep learning.\n",
    "\n",
    "Since there are natural fluctuations in the validation loss, you usually don't cancel the training process right at the first epoch when the validation-loss increases, but instead, you wait for some epochs (specified by the `patience`-parameter) and if the loss still doesn't improve, we stop.\n",
    "\n",
    "<div class=\"alert alert-success\">\n",
    "    <h3>Task: Check Code</h3>\n",
    "    <p>Please check the implementation of the early stopping mechanism in <code>../exercise_6/exercise_code/solver.py</code>.\n",
    " </p>\n",
    "</div>"
   ]
  },
  {
   "cell_type": "markdown",
   "metadata": {
    "id": "P8wWTovfN5eq"
   },
   "source": [
    "## 3.4 Let's find the perfect model!"
   ]
  },
  {
   "cell_type": "markdown",
   "metadata": {
    "id": "ksUYQAhgN5eq"
   },
   "source": [
    "Now you've set everything up and you are ready to train your model. You can use a combination of grid and random search to find proper hyperparameters. \n",
    "\n",
    "Be aware that this process will take some time, since we'll be using a much larger dataset.\n",
    "\n",
    "At the beginning, it is a good approach to do a coarse random search across a wide range of values to find promising sub-ranges of your parameter space. Afterwards, you can zoom into these ranges and perform another random search (or grid search) to finetune the configurations.\n",
    "\n",
    "To save time and resources, don't use the whole dataset at the beginning, but instead a medium large subset of the samples. Also, you don't have to train for a large number of epochs - as mentioned above: we first want to get an overview about our hyper parameters.\n",
    "\n",
    "<div class=\"alert alert-info\">\n",
    "    <h3>Task: Hyperparameters Tunning & Model Training </h3>\n",
    "        <p> Now, it is your turn to do the hyperparamater tuning. In the cell below, you can use the <code>random_search</code> function to find a good choice of parameters. Put in some reasonable ranges for the hyperparameters and evaluate them.\n",
    "    <p> <b>Note:</b> At the beginning, it's a good approach to first do a coarse random search across a <b> wide range of values</b> to find promising sub-ranges of your parameter space and use <b> a medium large subset of the dataset </b>. Afterwards, you can zoom into these ranges and do another random search (or grid search) to finetune the configurations. Use the cell below to play around and find good hyperparameters for your model!</p>\n",
    "        <p> Finally, once you've found some promising hyperparameters (or narrowed them down to promising subranges), it's time to utilize these hyperparameters to train your network on the whole dataset for a large number of epochs so that your own model can reach an acceptable performance. \n",
    "        <p> <b>Hint:</b> You may use a <code>Solver</code> class we provided before or directly use the <code>random_search</code> function (as you can also monitor the loss here) for model training.\n",
    "</div>"
   ]
  },
  {
   "cell_type": "code",
   "execution_count": 27,
   "metadata": {
    "colab": {
     "background_save": true
    },
    "id": "g2C24gzzN5eq",
    "outputId": "f9a7ca76-0471-44bc-dbb7-ac7f5d14e581"
   },
   "outputs": [
    {
     "name": "stdout",
     "output_type": "stream",
     "text": [
      "\n",
      "Evaluating Config #1 [of 20]:\n",
      " {'learning_rate': 0.0001785329835610989, 'reg': 2.84641131927329e-07, 'loss_func': <exercise_code.networks.loss.CrossEntropyFromLogits object at 0x7fdbb329f460>, 'hidden_size': 262, 'activation': <exercise_code.networks.layer.Relu object at 0x7fdbb41438b0>, 'num_layer': 4, 'lr_decay': 0.9991324990772948}\n",
      "(Epoch 1 / 50) train loss: 2.302585; val loss: 2.302585\n",
      "(Epoch 2 / 50) train loss: 2.302595; val loss: 2.302351\n",
      "(Epoch 3 / 50) train loss: 2.302590; val loss: 2.302208\n",
      "(Epoch 4 / 50) train loss: 2.302585; val loss: 2.302025\n",
      "(Epoch 5 / 50) train loss: 2.302580; val loss: 2.301874\n",
      "(Epoch 6 / 50) train loss: 2.302574; val loss: 2.301815\n",
      "(Epoch 7 / 50) train loss: 2.302569; val loss: 2.301700\n",
      "(Epoch 8 / 50) train loss: 2.302571; val loss: 2.301660\n",
      "(Epoch 9 / 50) train loss: 2.302572; val loss: 2.301496\n",
      "(Epoch 10 / 50) train loss: 2.302571; val loss: 2.301517\n",
      "(Epoch 11 / 50) train loss: 2.302564; val loss: 2.301411\n",
      "(Epoch 12 / 50) train loss: 2.302561; val loss: 2.301368\n",
      "(Epoch 13 / 50) train loss: 2.302556; val loss: 2.301263\n",
      "(Epoch 14 / 50) train loss: 2.265358; val loss: 2.119066\n",
      "(Epoch 15 / 50) train loss: 2.042366; val loss: 1.944888\n",
      "(Epoch 16 / 50) train loss: 1.928554; val loss: 1.831883\n",
      "(Epoch 17 / 50) train loss: 1.772014; val loss: 1.654588\n",
      "(Epoch 18 / 50) train loss: 1.639994; val loss: 1.676448\n",
      "(Epoch 19 / 50) train loss: 1.544485; val loss: 1.614076\n",
      "(Epoch 20 / 50) train loss: 1.468121; val loss: 1.542603\n",
      "(Epoch 21 / 50) train loss: 1.403544; val loss: 1.530352\n",
      "(Epoch 22 / 50) train loss: 1.344520; val loss: 1.532825\n",
      "(Epoch 23 / 50) train loss: 1.297057; val loss: 1.473708\n",
      "(Epoch 24 / 50) train loss: 1.244167; val loss: 1.417611\n",
      "(Epoch 25 / 50) train loss: 1.200336; val loss: 1.445245\n",
      "(Epoch 26 / 50) train loss: 1.150976; val loss: 1.415451\n",
      "(Epoch 27 / 50) train loss: 1.109501; val loss: 1.493103\n",
      "(Epoch 28 / 50) train loss: 1.061889; val loss: 1.489412\n",
      "(Epoch 29 / 50) train loss: 1.024900; val loss: 1.471427\n",
      "(Epoch 30 / 50) train loss: 0.985161; val loss: 1.402998\n",
      "(Epoch 31 / 50) train loss: 0.946653; val loss: 1.562958\n",
      "(Epoch 32 / 50) train loss: 0.915427; val loss: 1.449184\n",
      "(Epoch 33 / 50) train loss: 0.869005; val loss: 1.419970\n",
      "(Epoch 34 / 50) train loss: 0.837590; val loss: 1.593733\n",
      "(Epoch 35 / 50) train loss: 0.805075; val loss: 1.680110\n",
      "Stopping early at epoch 34!\n",
      "\n",
      "Evaluating Config #2 [of 20]:\n",
      " {'learning_rate': 0.00023296611682011695, 'reg': 1.541579023547681e-05, 'loss_func': <exercise_code.networks.loss.CrossEntropyFromLogits object at 0x7fdbb329f460>, 'hidden_size': 234, 'activation': <exercise_code.networks.layer.Relu object at 0x7fdbb41438b0>, 'num_layer': 3, 'lr_decay': 0.8751975532038426}\n",
      "(Epoch 1 / 50) train loss: 2.302597; val loss: 2.302596\n",
      "(Epoch 2 / 50) train loss: 2.207887; val loss: 2.023678\n",
      "(Epoch 3 / 50) train loss: 1.922038; val loss: 1.711850\n",
      "(Epoch 4 / 50) train loss: 1.752933; val loss: 1.630335\n",
      "(Epoch 5 / 50) train loss: 1.669272; val loss: 1.624148\n",
      "(Epoch 6 / 50) train loss: 1.606136; val loss: 1.618962\n",
      "(Epoch 7 / 50) train loss: 1.555690; val loss: 1.590070\n",
      "(Epoch 8 / 50) train loss: 1.514914; val loss: 1.566054\n",
      "(Epoch 9 / 50) train loss: 1.479887; val loss: 1.517885\n",
      "(Epoch 10 / 50) train loss: 1.450643; val loss: 1.535567\n",
      "(Epoch 11 / 50) train loss: 1.426279; val loss: 1.507570\n",
      "(Epoch 12 / 50) train loss: 1.404055; val loss: 1.499695\n",
      "(Epoch 13 / 50) train loss: 1.385902; val loss: 1.480153\n",
      "(Epoch 14 / 50) train loss: 1.369650; val loss: 1.465959\n",
      "(Epoch 15 / 50) train loss: 1.355958; val loss: 1.467722\n",
      "(Epoch 16 / 50) train loss: 1.343935; val loss: 1.469069\n",
      "(Epoch 17 / 50) train loss: 1.333332; val loss: 1.459054\n",
      "(Epoch 18 / 50) train loss: 1.324615; val loss: 1.448644\n",
      "(Epoch 19 / 50) train loss: 1.317500; val loss: 1.454811\n",
      "(Epoch 20 / 50) train loss: 1.310006; val loss: 1.440927\n",
      "(Epoch 21 / 50) train loss: 1.304945; val loss: 1.444609\n",
      "(Epoch 22 / 50) train loss: 1.299657; val loss: 1.438647\n",
      "(Epoch 23 / 50) train loss: 1.295417; val loss: 1.435638\n",
      "(Epoch 24 / 50) train loss: 1.291674; val loss: 1.436899\n",
      "(Epoch 25 / 50) train loss: 1.288209; val loss: 1.429074\n",
      "(Epoch 26 / 50) train loss: 1.285887; val loss: 1.436905\n",
      "(Epoch 27 / 50) train loss: 1.282857; val loss: 1.436526\n",
      "(Epoch 28 / 50) train loss: 1.280518; val loss: 1.433138\n",
      "(Epoch 29 / 50) train loss: 1.279035; val loss: 1.433405\n",
      "(Epoch 30 / 50) train loss: 1.277434; val loss: 1.429628\n",
      "Stopping early at epoch 29!\n",
      "\n",
      "Evaluating Config #3 [of 20]:\n",
      " {'learning_rate': 0.00028968158404240295, 'reg': 3.6664098472491022e-06, 'loss_func': <exercise_code.networks.loss.CrossEntropyFromLogits object at 0x7fdbb329f460>, 'hidden_size': 316, 'activation': <exercise_code.networks.layer.Relu object at 0x7fdbb41438b0>, 'num_layer': 4, 'lr_decay': 0.8745240018867698}\n",
      "(Epoch 1 / 50) train loss: 2.302589; val loss: 2.302589\n",
      "(Epoch 2 / 50) train loss: 2.302612; val loss: 2.302444\n",
      "(Epoch 3 / 50) train loss: 2.302599; val loss: 2.302235\n",
      "(Epoch 4 / 50) train loss: 2.302587; val loss: 2.302051\n",
      "(Epoch 5 / 50) train loss: 2.302582; val loss: 2.301984\n",
      "(Epoch 6 / 50) train loss: 2.302572; val loss: 2.301811\n",
      "(Epoch 7 / 50) train loss: 2.302568; val loss: 2.301772\n",
      "(Epoch 8 / 50) train loss: 2.302567; val loss: 2.301705\n",
      "(Epoch 9 / 50) train loss: 2.302566; val loss: 2.301628\n",
      "(Epoch 10 / 50) train loss: 2.302562; val loss: 2.301607\n",
      "(Epoch 11 / 50) train loss: 2.302565; val loss: 2.301555\n",
      "(Epoch 12 / 50) train loss: 2.302563; val loss: 2.301536\n",
      "(Epoch 13 / 50) train loss: 2.302563; val loss: 2.301494\n",
      "(Epoch 14 / 50) train loss: 2.302560; val loss: 2.301503\n",
      "(Epoch 15 / 50) train loss: 2.302560; val loss: 2.301496\n",
      "(Epoch 16 / 50) train loss: 2.302557; val loss: 2.301472\n",
      "(Epoch 17 / 50) train loss: 2.302557; val loss: 2.301450\n",
      "(Epoch 18 / 50) train loss: 2.302556; val loss: 2.301438\n",
      "(Epoch 19 / 50) train loss: 2.302555; val loss: 2.301438\n",
      "(Epoch 20 / 50) train loss: 2.302554; val loss: 2.301424\n",
      "(Epoch 21 / 50) train loss: 2.302559; val loss: 2.301415\n",
      "(Epoch 22 / 50) train loss: 2.302553; val loss: 2.301414\n",
      "(Epoch 23 / 50) train loss: 2.302552; val loss: 2.301406\n",
      "(Epoch 24 / 50) train loss: 2.302551; val loss: 2.301396\n",
      "(Epoch 25 / 50) train loss: 2.302552; val loss: 2.301394\n",
      "(Epoch 26 / 50) train loss: 2.302552; val loss: 2.301391\n",
      "(Epoch 27 / 50) train loss: 2.302551; val loss: 2.301389\n",
      "(Epoch 28 / 50) train loss: 2.302548; val loss: 2.301385\n",
      "(Epoch 29 / 50) train loss: 2.302549; val loss: 2.301380\n",
      "(Epoch 30 / 50) train loss: 2.302545; val loss: 2.301378\n",
      "(Epoch 31 / 50) train loss: 2.302548; val loss: 2.301377\n",
      "(Epoch 32 / 50) train loss: 2.302545; val loss: 2.301375\n",
      "(Epoch 33 / 50) train loss: 2.302547; val loss: 2.301373\n",
      "(Epoch 34 / 50) train loss: 2.302546; val loss: 2.301371\n",
      "(Epoch 35 / 50) train loss: 2.302546; val loss: 2.301368\n",
      "(Epoch 36 / 50) train loss: 2.302547; val loss: 2.301367\n",
      "(Epoch 37 / 50) train loss: 2.302547; val loss: 2.301366\n",
      "(Epoch 38 / 50) train loss: 2.302545; val loss: 2.301366\n",
      "(Epoch 39 / 50) train loss: 2.302544; val loss: 2.301364\n",
      "(Epoch 40 / 50) train loss: 2.302542; val loss: 2.301363\n",
      "(Epoch 41 / 50) train loss: 2.302544; val loss: 2.301363\n",
      "(Epoch 42 / 50) train loss: 2.302543; val loss: 2.301362\n",
      "(Epoch 43 / 50) train loss: 2.302543; val loss: 2.301362\n",
      "(Epoch 44 / 50) train loss: 2.302544; val loss: 2.301361\n",
      "(Epoch 45 / 50) train loss: 2.302543; val loss: 2.301360\n",
      "(Epoch 46 / 50) train loss: 2.302540; val loss: 2.301360\n",
      "(Epoch 47 / 50) train loss: 2.302545; val loss: 2.301360\n",
      "(Epoch 48 / 50) train loss: 2.302545; val loss: 2.301360\n",
      "(Epoch 49 / 50) train loss: 2.302542; val loss: 2.301359\n",
      "(Epoch 50 / 50) train loss: 2.302543; val loss: 2.301359\n",
      "\n",
      "Evaluating Config #4 [of 20]:\n",
      " {'learning_rate': 0.00012653227011762992, 'reg': 1.17760385225725e-06, 'loss_func': <exercise_code.networks.loss.CrossEntropyFromLogits object at 0x7fdbb329f460>, 'hidden_size': 308, 'activation': <exercise_code.networks.layer.Relu object at 0x7fdbb41438b0>, 'num_layer': 4, 'lr_decay': 0.96213079929027}\n",
      "(Epoch 1 / 50) train loss: 2.302586; val loss: 2.302586\n",
      "(Epoch 2 / 50) train loss: 2.302598; val loss: 2.302437\n",
      "(Epoch 3 / 50) train loss: 2.302586; val loss: 2.302337\n",
      "(Epoch 4 / 50) train loss: 2.302583; val loss: 2.302258\n",
      "(Epoch 5 / 50) train loss: 2.302578; val loss: 2.302127\n"
     ]
    },
    {
     "name": "stdout",
     "output_type": "stream",
     "text": [
      "(Epoch 6 / 50) train loss: 2.302578; val loss: 2.302069\n",
      "(Epoch 7 / 50) train loss: 2.302573; val loss: 2.302007\n",
      "(Epoch 8 / 50) train loss: 2.302573; val loss: 2.301906\n",
      "(Epoch 9 / 50) train loss: 2.302567; val loss: 2.301882\n",
      "(Epoch 10 / 50) train loss: 2.302567; val loss: 2.301805\n",
      "(Epoch 11 / 50) train loss: 2.302565; val loss: 2.301764\n",
      "(Epoch 12 / 50) train loss: 2.302563; val loss: 2.301698\n",
      "(Epoch 13 / 50) train loss: 2.302564; val loss: 2.301685\n",
      "(Epoch 14 / 50) train loss: 2.302563; val loss: 2.301645\n",
      "(Epoch 15 / 50) train loss: 2.302561; val loss: 2.301609\n",
      "(Epoch 16 / 50) train loss: 2.302558; val loss: 2.301576\n",
      "(Epoch 17 / 50) train loss: 2.302558; val loss: 2.301558\n",
      "(Epoch 18 / 50) train loss: 2.302559; val loss: 2.301511\n",
      "(Epoch 19 / 50) train loss: 2.302556; val loss: 2.301500\n",
      "(Epoch 20 / 50) train loss: 2.302559; val loss: 2.301467\n",
      "(Epoch 21 / 50) train loss: 2.302555; val loss: 2.301434\n",
      "(Epoch 22 / 50) train loss: 2.302555; val loss: 2.301410\n",
      "(Epoch 23 / 50) train loss: 2.302553; val loss: 2.301397\n",
      "(Epoch 24 / 50) train loss: 2.302554; val loss: 2.301378\n",
      "(Epoch 25 / 50) train loss: 2.302554; val loss: 2.301361\n",
      "(Epoch 26 / 50) train loss: 2.302548; val loss: 2.301345\n",
      "(Epoch 27 / 50) train loss: 2.302546; val loss: 2.301300\n",
      "(Epoch 28 / 50) train loss: 2.302526; val loss: 2.301244\n",
      "(Epoch 29 / 50) train loss: 2.302399; val loss: 2.300612\n",
      "(Epoch 30 / 50) train loss: 2.266126; val loss: 2.130657\n",
      "(Epoch 31 / 50) train loss: 2.171093; val loss: 2.108886\n",
      "(Epoch 32 / 50) train loss: 2.122430; val loss: 2.013313\n",
      "(Epoch 33 / 50) train loss: 2.028396; val loss: 1.948977\n",
      "(Epoch 34 / 50) train loss: 1.990334; val loss: 1.947629\n",
      "(Epoch 35 / 50) train loss: 1.956342; val loss: 1.946464\n",
      "(Epoch 36 / 50) train loss: 1.931267; val loss: 1.925679\n",
      "(Epoch 37 / 50) train loss: 1.908219; val loss: 1.907016\n",
      "(Epoch 38 / 50) train loss: 1.887313; val loss: 1.890798\n",
      "(Epoch 39 / 50) train loss: 1.864313; val loss: 1.882351\n",
      "(Epoch 40 / 50) train loss: 1.834608; val loss: 1.833351\n",
      "(Epoch 41 / 50) train loss: 1.804513; val loss: 1.813313\n",
      "(Epoch 42 / 50) train loss: 1.785286; val loss: 1.782274\n",
      "(Epoch 43 / 50) train loss: 1.765499; val loss: 1.778222\n",
      "(Epoch 44 / 50) train loss: 1.749836; val loss: 1.760200\n",
      "(Epoch 45 / 50) train loss: 1.732672; val loss: 1.772578\n",
      "(Epoch 46 / 50) train loss: 1.715882; val loss: 1.745469\n",
      "(Epoch 47 / 50) train loss: 1.700601; val loss: 1.735450\n",
      "(Epoch 48 / 50) train loss: 1.683698; val loss: 1.743447\n",
      "(Epoch 49 / 50) train loss: 1.667785; val loss: 1.728322\n",
      "(Epoch 50 / 50) train loss: 1.653033; val loss: 1.713089\n",
      "\n",
      "Evaluating Config #5 [of 20]:\n",
      " {'learning_rate': 0.0004647322679577095, 'reg': 1.481295067714483e-06, 'loss_func': <exercise_code.networks.loss.CrossEntropyFromLogits object at 0x7fdbb329f460>, 'hidden_size': 182, 'activation': <exercise_code.networks.layer.Relu object at 0x7fdbb41438b0>, 'num_layer': 3, 'lr_decay': 0.9351290813879002}\n",
      "(Epoch 1 / 50) train loss: 2.302586; val loss: 2.302586\n",
      "(Epoch 2 / 50) train loss: 2.117697; val loss: 1.869943\n",
      "(Epoch 3 / 50) train loss: 1.775520; val loss: 1.641433\n",
      "(Epoch 4 / 50) train loss: 1.623713; val loss: 1.608551\n",
      "(Epoch 5 / 50) train loss: 1.522593; val loss: 1.544777\n",
      "(Epoch 6 / 50) train loss: 1.447391; val loss: 1.473207\n",
      "(Epoch 7 / 50) train loss: 1.382243; val loss: 1.474310\n",
      "(Epoch 8 / 50) train loss: 1.326273; val loss: 1.379789\n",
      "(Epoch 9 / 50) train loss: 1.280877; val loss: 1.414911\n",
      "(Epoch 10 / 50) train loss: 1.230817; val loss: 1.346761\n",
      "(Epoch 11 / 50) train loss: 1.191568; val loss: 1.361093\n",
      "(Epoch 12 / 50) train loss: 1.156659; val loss: 1.331607\n",
      "(Epoch 13 / 50) train loss: 1.120387; val loss: 1.378094\n",
      "(Epoch 14 / 50) train loss: 1.087251; val loss: 1.398465\n",
      "(Epoch 15 / 50) train loss: 1.051877; val loss: 1.366764\n",
      "(Epoch 16 / 50) train loss: 1.024171; val loss: 1.417962\n",
      "(Epoch 17 / 50) train loss: 0.997117; val loss: 1.347660\n",
      "Stopping early at epoch 16!\n",
      "\n",
      "Evaluating Config #6 [of 20]:\n",
      " {'learning_rate': 0.0008979761198175669, 'reg': 9.386399798197272e-06, 'loss_func': <exercise_code.networks.loss.CrossEntropyFromLogits object at 0x7fdbb329f460>, 'hidden_size': 124, 'activation': <exercise_code.networks.layer.Relu object at 0x7fdbb41438b0>, 'num_layer': 3, 'lr_decay': 0.9450745177217136}\n",
      "(Epoch 1 / 50) train loss: 2.302589; val loss: 2.302588\n",
      "(Epoch 2 / 50) train loss: 2.054845; val loss: 1.750602\n",
      "(Epoch 3 / 50) train loss: 1.717797; val loss: 1.652159\n",
      "(Epoch 4 / 50) train loss: 1.585697; val loss: 1.573654\n",
      "(Epoch 5 / 50) train loss: 1.477167; val loss: 1.545454\n",
      "(Epoch 6 / 50) train loss: 1.395181; val loss: 1.512089\n",
      "(Epoch 7 / 50) train loss: 1.321361; val loss: 1.474041\n",
      "(Epoch 8 / 50) train loss: 1.264588; val loss: 1.451492\n",
      "(Epoch 9 / 50) train loss: 1.212429; val loss: 1.427522\n",
      "(Epoch 10 / 50) train loss: 1.163830; val loss: 1.353244\n",
      "(Epoch 11 / 50) train loss: 1.117435; val loss: 1.374546\n",
      "(Epoch 12 / 50) train loss: 1.078406; val loss: 1.401542\n",
      "(Epoch 13 / 50) train loss: 1.038027; val loss: 1.357239\n",
      "(Epoch 14 / 50) train loss: 1.000959; val loss: 1.400822\n",
      "(Epoch 15 / 50) train loss: 0.966937; val loss: 1.425935\n",
      "Stopping early at epoch 14!\n",
      "\n",
      "Evaluating Config #7 [of 20]:\n",
      " {'learning_rate': 0.00023266063987748383, 'reg': 5.43833857477955e-06, 'loss_func': <exercise_code.networks.loss.CrossEntropyFromLogits object at 0x7fdbb329f460>, 'hidden_size': 148, 'activation': <exercise_code.networks.layer.LeakyRelu object at 0x7fdbb4143610>, 'num_layer': 4, 'lr_decay': 0.8678420469893489}\n",
      "(Epoch 1 / 50) train loss: 2.302588; val loss: 2.302588\n",
      "(Epoch 2 / 50) train loss: 2.302602; val loss: 2.302381\n",
      "(Epoch 3 / 50) train loss: 2.302591; val loss: 2.302238\n",
      "(Epoch 4 / 50) train loss: 2.302588; val loss: 2.302125\n",
      "(Epoch 5 / 50) train loss: 2.302577; val loss: 2.302054\n",
      "(Epoch 6 / 50) train loss: 2.302574; val loss: 2.301926\n",
      "(Epoch 7 / 50) train loss: 2.302570; val loss: 2.301901\n",
      "(Epoch 8 / 50) train loss: 2.302567; val loss: 2.301822\n",
      "(Epoch 9 / 50) train loss: 2.302565; val loss: 2.301790\n",
      "(Epoch 10 / 50) train loss: 2.302563; val loss: 2.301746\n",
      "(Epoch 11 / 50) train loss: 2.302561; val loss: 2.301723\n",
      "(Epoch 12 / 50) train loss: 2.302561; val loss: 2.301691\n",
      "(Epoch 13 / 50) train loss: 2.302562; val loss: 2.301668\n",
      "(Epoch 14 / 50) train loss: 2.302558; val loss: 2.301663\n",
      "(Epoch 15 / 50) train loss: 2.302559; val loss: 2.301646\n",
      "(Epoch 16 / 50) train loss: 2.302557; val loss: 2.301628\n",
      "(Epoch 17 / 50) train loss: 2.302560; val loss: 2.301614\n",
      "(Epoch 18 / 50) train loss: 2.302556; val loss: 2.301611\n",
      "(Epoch 19 / 50) train loss: 2.302557; val loss: 2.301594\n",
      "(Epoch 20 / 50) train loss: 2.302554; val loss: 2.301587\n",
      "(Epoch 21 / 50) train loss: 2.302556; val loss: 2.301580\n",
      "(Epoch 22 / 50) train loss: 2.302555; val loss: 2.301575\n",
      "(Epoch 23 / 50) train loss: 2.302554; val loss: 2.301574\n",
      "(Epoch 24 / 50) train loss: 2.302555; val loss: 2.301566\n",
      "(Epoch 25 / 50) train loss: 2.302557; val loss: 2.301565\n",
      "(Epoch 26 / 50) train loss: 2.302553; val loss: 2.301560\n",
      "(Epoch 27 / 50) train loss: 2.302555; val loss: 2.301560\n",
      "(Epoch 28 / 50) train loss: 2.302555; val loss: 2.301557\n",
      "(Epoch 29 / 50) train loss: 2.302556; val loss: 2.301553\n",
      "(Epoch 30 / 50) train loss: 2.302555; val loss: 2.301553\n",
      "(Epoch 31 / 50) train loss: 2.302554; val loss: 2.301551\n",
      "(Epoch 32 / 50) train loss: 2.302554; val loss: 2.301550\n",
      "(Epoch 33 / 50) train loss: 2.302555; val loss: 2.301549\n",
      "(Epoch 34 / 50) train loss: 2.302556; val loss: 2.301547\n",
      "(Epoch 35 / 50) train loss: 2.302557; val loss: 2.301547\n",
      "(Epoch 36 / 50) train loss: 2.302555; val loss: 2.301547\n",
      "(Epoch 37 / 50) train loss: 2.302555; val loss: 2.301546\n",
      "(Epoch 38 / 50) train loss: 2.302554; val loss: 2.301545\n",
      "(Epoch 39 / 50) train loss: 2.302554; val loss: 2.301545\n",
      "(Epoch 40 / 50) train loss: 2.302553; val loss: 2.301544\n",
      "(Epoch 41 / 50) train loss: 2.302553; val loss: 2.301544\n",
      "(Epoch 42 / 50) train loss: 2.302554; val loss: 2.301544\n",
      "(Epoch 43 / 50) train loss: 2.302554; val loss: 2.301544\n",
      "(Epoch 44 / 50) train loss: 2.302555; val loss: 2.301543\n",
      "(Epoch 45 / 50) train loss: 2.302555; val loss: 2.301543\n",
      "(Epoch 46 / 50) train loss: 2.302555; val loss: 2.301543\n",
      "(Epoch 47 / 50) train loss: 2.302554; val loss: 2.301543\n",
      "(Epoch 48 / 50) train loss: 2.302555; val loss: 2.301543\n",
      "(Epoch 49 / 50) train loss: 2.302554; val loss: 2.301543\n"
     ]
    },
    {
     "name": "stdout",
     "output_type": "stream",
     "text": [
      "(Epoch 50 / 50) train loss: 2.302552; val loss: 2.301542\n",
      "\n",
      "Evaluating Config #8 [of 20]:\n",
      " {'learning_rate': 0.0005956115667264829, 'reg': 3.8321307513932796e-07, 'loss_func': <exercise_code.networks.loss.CrossEntropyFromLogits object at 0x7fdbb329f460>, 'hidden_size': 304, 'activation': <exercise_code.networks.layer.Relu object at 0x7fdbb41438b0>, 'num_layer': 4, 'lr_decay': 0.8693595386918231}\n",
      "(Epoch 1 / 50) train loss: 2.302586; val loss: 2.302586\n",
      "(Epoch 2 / 50) train loss: 2.302626; val loss: 2.302176\n",
      "(Epoch 3 / 50) train loss: 2.302596; val loss: 2.301860\n",
      "(Epoch 4 / 50) train loss: 2.302585; val loss: 2.301509\n",
      "(Epoch 5 / 50) train loss: 2.302575; val loss: 2.301474\n",
      "(Epoch 6 / 50) train loss: 2.302574; val loss: 2.301257\n",
      "(Epoch 7 / 50) train loss: 2.302564; val loss: 2.301287\n",
      "(Epoch 8 / 50) train loss: 2.302561; val loss: 2.301235\n",
      "(Epoch 9 / 50) train loss: 2.302559; val loss: 2.301199\n",
      "(Epoch 10 / 50) train loss: 2.302557; val loss: 2.301115\n",
      "(Epoch 11 / 50) train loss: 2.302558; val loss: 2.301087\n",
      "(Epoch 12 / 50) train loss: 2.302554; val loss: 2.301077\n",
      "(Epoch 13 / 50) train loss: 2.302556; val loss: 2.301038\n",
      "(Epoch 14 / 50) train loss: 2.302551; val loss: 2.301021\n",
      "(Epoch 15 / 50) train loss: 2.302549; val loss: 2.301055\n",
      "(Epoch 16 / 50) train loss: 2.302553; val loss: 2.301022\n",
      "(Epoch 17 / 50) train loss: 2.302551; val loss: 2.301009\n",
      "(Epoch 18 / 50) train loss: 2.302551; val loss: 2.301012\n",
      "(Epoch 19 / 50) train loss: 2.302553; val loss: 2.301016\n",
      "(Epoch 20 / 50) train loss: 2.302548; val loss: 2.301006\n",
      "(Epoch 21 / 50) train loss: 2.302550; val loss: 2.300996\n",
      "(Epoch 22 / 50) train loss: 2.302550; val loss: 2.300995\n",
      "(Epoch 23 / 50) train loss: 2.302547; val loss: 2.300994\n",
      "(Epoch 24 / 50) train loss: 2.302548; val loss: 2.300989\n",
      "(Epoch 25 / 50) train loss: 2.302550; val loss: 2.300992\n",
      "(Epoch 26 / 50) train loss: 2.302550; val loss: 2.300986\n",
      "(Epoch 27 / 50) train loss: 2.302547; val loss: 2.300987\n",
      "(Epoch 28 / 50) train loss: 2.302547; val loss: 2.300991\n",
      "(Epoch 29 / 50) train loss: 2.302548; val loss: 2.300987\n",
      "(Epoch 30 / 50) train loss: 2.302548; val loss: 2.300987\n",
      "(Epoch 31 / 50) train loss: 2.302545; val loss: 2.300986\n",
      "(Epoch 32 / 50) train loss: 2.302544; val loss: 2.300983\n",
      "(Epoch 33 / 50) train loss: 2.302548; val loss: 2.300985\n",
      "(Epoch 34 / 50) train loss: 2.302542; val loss: 2.300982\n",
      "(Epoch 35 / 50) train loss: 2.302543; val loss: 2.300982\n",
      "(Epoch 36 / 50) train loss: 2.302543; val loss: 2.300982\n",
      "(Epoch 37 / 50) train loss: 2.302548; val loss: 2.300982\n",
      "(Epoch 38 / 50) train loss: 2.302548; val loss: 2.300981\n",
      "(Epoch 39 / 50) train loss: 2.302545; val loss: 2.300980\n",
      "(Epoch 40 / 50) train loss: 2.302546; val loss: 2.300980\n",
      "(Epoch 41 / 50) train loss: 2.302545; val loss: 2.300980\n",
      "(Epoch 42 / 50) train loss: 2.302549; val loss: 2.300981\n",
      "(Epoch 43 / 50) train loss: 2.302546; val loss: 2.300980\n",
      "(Epoch 44 / 50) train loss: 2.302548; val loss: 2.300980\n",
      "(Epoch 45 / 50) train loss: 2.302545; val loss: 2.300980\n",
      "(Epoch 46 / 50) train loss: 2.302547; val loss: 2.300980\n",
      "(Epoch 47 / 50) train loss: 2.302546; val loss: 2.300980\n",
      "(Epoch 48 / 50) train loss: 2.302547; val loss: 2.300980\n",
      "(Epoch 49 / 50) train loss: 2.302546; val loss: 2.300980\n",
      "(Epoch 50 / 50) train loss: 2.302545; val loss: 2.300979\n",
      "\n",
      "Evaluating Config #9 [of 20]:\n",
      " {'learning_rate': 0.00016427475741545472, 'reg': 1.6865295179824692e-06, 'loss_func': <exercise_code.networks.loss.CrossEntropyFromLogits object at 0x7fdbb329f460>, 'hidden_size': 304, 'activation': <exercise_code.networks.layer.LeakyRelu object at 0x7fdbb4143610>, 'num_layer': 4, 'lr_decay': 0.9648697724800215}\n",
      "(Epoch 1 / 50) train loss: 2.302587; val loss: 2.302587\n",
      "(Epoch 2 / 50) train loss: 2.302600; val loss: 2.302365\n",
      "(Epoch 3 / 50) train loss: 2.302588; val loss: 2.302256\n",
      "(Epoch 4 / 50) train loss: 2.302583; val loss: 2.302116\n",
      "(Epoch 5 / 50) train loss: 2.302577; val loss: 2.302016\n",
      "(Epoch 6 / 50) train loss: 2.302576; val loss: 2.301910\n",
      "(Epoch 7 / 50) train loss: 2.302570; val loss: 2.301859\n",
      "(Epoch 8 / 50) train loss: 2.302568; val loss: 2.301744\n",
      "(Epoch 9 / 50) train loss: 2.302570; val loss: 2.301726\n",
      "(Epoch 10 / 50) train loss: 2.302567; val loss: 2.301657\n",
      "(Epoch 11 / 50) train loss: 2.302563; val loss: 2.301591\n",
      "(Epoch 12 / 50) train loss: 2.302563; val loss: 2.301482\n",
      "(Epoch 13 / 50) train loss: 2.302561; val loss: 2.301477\n",
      "(Epoch 14 / 50) train loss: 2.302561; val loss: 2.301427\n",
      "(Epoch 15 / 50) train loss: 2.302560; val loss: 2.301402\n",
      "(Epoch 16 / 50) train loss: 2.302559; val loss: 2.301351\n",
      "(Epoch 17 / 50) train loss: 2.302556; val loss: 2.301341\n",
      "(Epoch 18 / 50) train loss: 2.302549; val loss: 2.301296\n",
      "(Epoch 19 / 50) train loss: 2.302329; val loss: 2.298695\n",
      "(Epoch 20 / 50) train loss: 2.204791; val loss: 2.118661\n",
      "(Epoch 21 / 50) train loss: 2.061244; val loss: 1.922110\n",
      "(Epoch 22 / 50) train loss: 1.978304; val loss: 1.937662\n",
      "(Epoch 23 / 50) train loss: 1.910693; val loss: 1.873305\n",
      "(Epoch 24 / 50) train loss: 1.848469; val loss: 1.779834\n",
      "(Epoch 25 / 50) train loss: 1.794961; val loss: 1.773604\n",
      "(Epoch 26 / 50) train loss: 1.739081; val loss: 1.707379\n",
      "(Epoch 27 / 50) train loss: 1.677427; val loss: 1.653239\n",
      "(Epoch 28 / 50) train loss: 1.619634; val loss: 1.663567\n",
      "(Epoch 29 / 50) train loss: 1.563672; val loss: 1.621808\n",
      "(Epoch 30 / 50) train loss: 1.516780; val loss: 1.608659\n",
      "(Epoch 31 / 50) train loss: 1.476255; val loss: 1.613589\n",
      "(Epoch 32 / 50) train loss: 1.439380; val loss: 1.594571\n",
      "(Epoch 33 / 50) train loss: 1.408424; val loss: 1.607155\n",
      "(Epoch 34 / 50) train loss: 1.378057; val loss: 1.606745\n",
      "(Epoch 35 / 50) train loss: 1.349286; val loss: 1.563810\n",
      "(Epoch 36 / 50) train loss: 1.324362; val loss: 1.530264\n",
      "(Epoch 37 / 50) train loss: 1.301270; val loss: 1.567542\n",
      "(Epoch 38 / 50) train loss: 1.281201; val loss: 1.534415\n",
      "(Epoch 39 / 50) train loss: 1.254993; val loss: 1.515837\n",
      "(Epoch 40 / 50) train loss: 1.237088; val loss: 1.513287\n",
      "(Epoch 41 / 50) train loss: 1.216056; val loss: 1.539082\n",
      "(Epoch 42 / 50) train loss: 1.198846; val loss: 1.511145\n",
      "(Epoch 43 / 50) train loss: 1.180338; val loss: 1.515286\n",
      "(Epoch 44 / 50) train loss: 1.162125; val loss: 1.544360\n",
      "(Epoch 45 / 50) train loss: 1.146466; val loss: 1.523702\n",
      "(Epoch 46 / 50) train loss: 1.128921; val loss: 1.478735\n",
      "(Epoch 47 / 50) train loss: 1.113680; val loss: 1.470050\n",
      "(Epoch 48 / 50) train loss: 1.100550; val loss: 1.500967\n",
      "(Epoch 49 / 50) train loss: 1.083711; val loss: 1.517107\n",
      "(Epoch 50 / 50) train loss: 1.070447; val loss: 1.499000\n",
      "\n",
      "Evaluating Config #10 [of 20]:\n",
      " {'learning_rate': 0.00014251415687850175, 'reg': 1.7897795369159538e-07, 'loss_func': <exercise_code.networks.loss.CrossEntropyFromLogits object at 0x7fdbb329f460>, 'hidden_size': 142, 'activation': <exercise_code.networks.layer.LeakyRelu object at 0x7fdbb4143610>, 'num_layer': 4, 'lr_decay': 0.9314060622957541}\n",
      "(Epoch 1 / 50) train loss: 2.302585; val loss: 2.302585\n",
      "(Epoch 2 / 50) train loss: 2.302593; val loss: 2.302466\n",
      "(Epoch 3 / 50) train loss: 2.302587; val loss: 2.302334\n",
      "(Epoch 4 / 50) train loss: 2.302582; val loss: 2.302263\n",
      "(Epoch 5 / 50) train loss: 2.302575; val loss: 2.302126\n",
      "(Epoch 6 / 50) train loss: 2.302574; val loss: 2.302065\n",
      "(Epoch 7 / 50) train loss: 2.302570; val loss: 2.301992\n",
      "(Epoch 8 / 50) train loss: 2.302568; val loss: 2.301925\n",
      "(Epoch 9 / 50) train loss: 2.302567; val loss: 2.301868\n",
      "(Epoch 10 / 50) train loss: 2.302563; val loss: 2.301824\n",
      "(Epoch 11 / 50) train loss: 2.302563; val loss: 2.301788\n",
      "(Epoch 12 / 50) train loss: 2.302562; val loss: 2.301747\n",
      "(Epoch 13 / 50) train loss: 2.302559; val loss: 2.301702\n",
      "(Epoch 14 / 50) train loss: 2.302558; val loss: 2.301673\n",
      "(Epoch 15 / 50) train loss: 2.302558; val loss: 2.301651\n",
      "(Epoch 16 / 50) train loss: 2.302560; val loss: 2.301637\n",
      "(Epoch 17 / 50) train loss: 2.302558; val loss: 2.301602\n",
      "(Epoch 18 / 50) train loss: 2.302557; val loss: 2.301571\n",
      "(Epoch 19 / 50) train loss: 2.302555; val loss: 2.301559\n",
      "(Epoch 20 / 50) train loss: 2.302555; val loss: 2.301541\n",
      "(Epoch 21 / 50) train loss: 2.302551; val loss: 2.301534\n",
      "(Epoch 22 / 50) train loss: 2.302554; val loss: 2.301508\n",
      "(Epoch 23 / 50) train loss: 2.302553; val loss: 2.301507\n",
      "(Epoch 24 / 50) train loss: 2.302552; val loss: 2.301490\n",
      "(Epoch 25 / 50) train loss: 2.302552; val loss: 2.301476\n",
      "(Epoch 26 / 50) train loss: 2.302551; val loss: 2.301473\n"
     ]
    },
    {
     "name": "stdout",
     "output_type": "stream",
     "text": [
      "(Epoch 27 / 50) train loss: 2.302551; val loss: 2.301456\n",
      "(Epoch 28 / 50) train loss: 2.302552; val loss: 2.301449\n",
      "(Epoch 29 / 50) train loss: 2.302554; val loss: 2.301445\n",
      "(Epoch 30 / 50) train loss: 2.302551; val loss: 2.301436\n",
      "(Epoch 31 / 50) train loss: 2.302548; val loss: 2.301426\n",
      "(Epoch 32 / 50) train loss: 2.302552; val loss: 2.301420\n",
      "(Epoch 33 / 50) train loss: 2.302552; val loss: 2.301416\n",
      "(Epoch 34 / 50) train loss: 2.302551; val loss: 2.301415\n",
      "(Epoch 35 / 50) train loss: 2.302550; val loss: 2.301410\n",
      "(Epoch 36 / 50) train loss: 2.302550; val loss: 2.301405\n",
      "(Epoch 37 / 50) train loss: 2.302550; val loss: 2.301400\n",
      "(Epoch 38 / 50) train loss: 2.302550; val loss: 2.301396\n",
      "(Epoch 39 / 50) train loss: 2.302550; val loss: 2.301393\n",
      "(Epoch 40 / 50) train loss: 2.302550; val loss: 2.301390\n",
      "(Epoch 41 / 50) train loss: 2.302551; val loss: 2.301387\n",
      "(Epoch 42 / 50) train loss: 2.302550; val loss: 2.301383\n",
      "(Epoch 43 / 50) train loss: 2.302548; val loss: 2.301380\n",
      "(Epoch 44 / 50) train loss: 2.302552; val loss: 2.301378\n",
      "(Epoch 45 / 50) train loss: 2.302547; val loss: 2.301376\n",
      "(Epoch 46 / 50) train loss: 2.302549; val loss: 2.301373\n",
      "(Epoch 47 / 50) train loss: 2.302548; val loss: 2.301372\n",
      "(Epoch 48 / 50) train loss: 2.302549; val loss: 2.301370\n",
      "(Epoch 49 / 50) train loss: 2.302551; val loss: 2.301368\n",
      "(Epoch 50 / 50) train loss: 2.302550; val loss: 2.301368\n",
      "\n",
      "Evaluating Config #11 [of 20]:\n",
      " {'learning_rate': 0.0001527624123692058, 'reg': 5.3533112719765146e-05, 'loss_func': <exercise_code.networks.loss.CrossEntropyFromLogits object at 0x7fdbb329f460>, 'hidden_size': 387, 'activation': <exercise_code.networks.layer.Relu object at 0x7fdbb41438b0>, 'num_layer': 2, 'lr_decay': 0.9829761173894205}\n",
      "(Epoch 1 / 50) train loss: 2.302742; val loss: 2.302689\n",
      "(Epoch 2 / 50) train loss: 1.962127; val loss: 1.693573\n",
      "(Epoch 3 / 50) train loss: 1.704687; val loss: 1.602117\n",
      "(Epoch 4 / 50) train loss: 1.604949; val loss: 1.549522\n",
      "(Epoch 5 / 50) train loss: 1.537026; val loss: 1.495082\n",
      "(Epoch 6 / 50) train loss: 1.485594; val loss: 1.487289\n",
      "(Epoch 7 / 50) train loss: 1.445035; val loss: 1.442734\n",
      "(Epoch 8 / 50) train loss: 1.404038; val loss: 1.416038\n",
      "(Epoch 9 / 50) train loss: 1.369806; val loss: 1.394903\n",
      "(Epoch 10 / 50) train loss: 1.339230; val loss: 1.388555\n",
      "(Epoch 11 / 50) train loss: 1.311091; val loss: 1.419579\n",
      "(Epoch 12 / 50) train loss: 1.282734; val loss: 1.374572\n",
      "(Epoch 13 / 50) train loss: 1.256493; val loss: 1.367092\n",
      "(Epoch 14 / 50) train loss: 1.230738; val loss: 1.349067\n",
      "(Epoch 15 / 50) train loss: 1.205975; val loss: 1.340686\n",
      "(Epoch 16 / 50) train loss: 1.184330; val loss: 1.359261\n",
      "(Epoch 17 / 50) train loss: 1.163257; val loss: 1.354626\n",
      "(Epoch 18 / 50) train loss: 1.142118; val loss: 1.363213\n",
      "(Epoch 19 / 50) train loss: 1.119730; val loss: 1.315511\n",
      "(Epoch 20 / 50) train loss: 1.100103; val loss: 1.342682\n",
      "(Epoch 21 / 50) train loss: 1.081190; val loss: 1.313999\n",
      "(Epoch 22 / 50) train loss: 1.062777; val loss: 1.294784\n",
      "(Epoch 23 / 50) train loss: 1.043647; val loss: 1.298367\n",
      "(Epoch 24 / 50) train loss: 1.027376; val loss: 1.328149\n",
      "(Epoch 25 / 50) train loss: 1.008817; val loss: 1.332935\n",
      "(Epoch 26 / 50) train loss: 0.992422; val loss: 1.318705\n",
      "(Epoch 27 / 50) train loss: 0.977761; val loss: 1.329340\n",
      "Stopping early at epoch 26!\n",
      "\n",
      "Evaluating Config #12 [of 20]:\n",
      " {'learning_rate': 0.0006606678764441433, 'reg': 1.597640726968863e-05, 'loss_func': <exercise_code.networks.loss.CrossEntropyFromLogits object at 0x7fdbb329f460>, 'hidden_size': 395, 'activation': <exercise_code.networks.layer.Relu object at 0x7fdbb41438b0>, 'num_layer': 4, 'lr_decay': 0.9718988472577879}\n",
      "(Epoch 1 / 50) train loss: 2.302610; val loss: 2.302610\n",
      "(Epoch 2 / 50) train loss: 2.302643; val loss: 2.302187\n",
      "(Epoch 3 / 50) train loss: 2.302628; val loss: 2.301521\n",
      "(Epoch 4 / 50) train loss: 2.302612; val loss: 2.301595\n",
      "(Epoch 5 / 50) train loss: 2.290251; val loss: 2.114679\n",
      "(Epoch 6 / 50) train loss: 2.062181; val loss: 1.897411\n",
      "(Epoch 7 / 50) train loss: 1.796288; val loss: 1.679460\n",
      "(Epoch 8 / 50) train loss: 1.600410; val loss: 1.554081\n",
      "(Epoch 9 / 50) train loss: 1.470753; val loss: 1.489529\n",
      "(Epoch 10 / 50) train loss: 1.374101; val loss: 1.422562\n",
      "(Epoch 11 / 50) train loss: 1.288081; val loss: 1.351831\n",
      "(Epoch 12 / 50) train loss: 1.210265; val loss: 1.381030\n",
      "(Epoch 13 / 50) train loss: 1.130823; val loss: 1.321479\n",
      "(Epoch 14 / 50) train loss: 1.061087; val loss: 1.442430\n",
      "(Epoch 15 / 50) train loss: 0.992047; val loss: 1.408255\n",
      "(Epoch 16 / 50) train loss: 0.932029; val loss: 1.463161\n",
      "(Epoch 17 / 50) train loss: 0.854083; val loss: 1.601724\n",
      "(Epoch 18 / 50) train loss: 0.783893; val loss: 1.554696\n",
      "Stopping early at epoch 17!\n",
      "\n",
      "Evaluating Config #13 [of 20]:\n",
      " {'learning_rate': 0.0007968199481644906, 'reg': 3.219233800262159e-07, 'loss_func': <exercise_code.networks.loss.CrossEntropyFromLogits object at 0x7fdbb329f460>, 'hidden_size': 233, 'activation': <exercise_code.networks.layer.Relu object at 0x7fdbb41438b0>, 'num_layer': 2, 'lr_decay': 0.9021765799004233}\n",
      "(Epoch 1 / 50) train loss: 2.302615; val loss: 2.302670\n",
      "(Epoch 2 / 50) train loss: 1.792496; val loss: 1.585795\n",
      "(Epoch 3 / 50) train loss: 1.543410; val loss: 1.467036\n",
      "(Epoch 4 / 50) train loss: 1.434034; val loss: 1.432489\n",
      "(Epoch 5 / 50) train loss: 1.356194; val loss: 1.391149\n",
      "(Epoch 6 / 50) train loss: 1.289084; val loss: 1.362021\n",
      "(Epoch 7 / 50) train loss: 1.231787; val loss: 1.310421\n",
      "(Epoch 8 / 50) train loss: 1.181193; val loss: 1.328966\n",
      "(Epoch 9 / 50) train loss: 1.130290; val loss: 1.393567\n",
      "(Epoch 10 / 50) train loss: 1.089055; val loss: 1.300208\n",
      "(Epoch 11 / 50) train loss: 1.052039; val loss: 1.340764\n",
      "(Epoch 12 / 50) train loss: 1.015157; val loss: 1.333615\n",
      "(Epoch 13 / 50) train loss: 0.982390; val loss: 1.369722\n",
      "(Epoch 14 / 50) train loss: 0.956889; val loss: 1.315393\n",
      "(Epoch 15 / 50) train loss: 0.931415; val loss: 1.373568\n",
      "Stopping early at epoch 14!\n",
      "\n",
      "Evaluating Config #14 [of 20]:\n",
      " {'learning_rate': 0.00018017680890550664, 'reg': 3.183909314385495e-05, 'loss_func': <exercise_code.networks.loss.CrossEntropyFromLogits object at 0x7fdbb329f460>, 'hidden_size': 327, 'activation': <exercise_code.networks.layer.LeakyRelu object at 0x7fdbb4143610>, 'num_layer': 4, 'lr_decay': 0.8539653526086962}\n",
      "(Epoch 1 / 50) train loss: 2.302624; val loss: 2.302624\n",
      "(Epoch 2 / 50) train loss: 2.302632; val loss: 2.302493\n",
      "(Epoch 3 / 50) train loss: 2.302625; val loss: 2.302288\n",
      "(Epoch 4 / 50) train loss: 2.302617; val loss: 2.302238\n",
      "(Epoch 5 / 50) train loss: 2.302613; val loss: 2.302150\n",
      "(Epoch 6 / 50) train loss: 2.302609; val loss: 2.302072\n",
      "(Epoch 7 / 50) train loss: 2.302607; val loss: 2.302024\n",
      "(Epoch 8 / 50) train loss: 2.302604; val loss: 2.301999\n",
      "(Epoch 9 / 50) train loss: 2.302600; val loss: 2.301942\n",
      "(Epoch 10 / 50) train loss: 2.302600; val loss: 2.301927\n",
      "(Epoch 11 / 50) train loss: 2.302597; val loss: 2.301904\n",
      "(Epoch 12 / 50) train loss: 2.302595; val loss: 2.301874\n",
      "(Epoch 13 / 50) train loss: 2.302596; val loss: 2.301865\n",
      "(Epoch 14 / 50) train loss: 2.302594; val loss: 2.301845\n",
      "(Epoch 15 / 50) train loss: 2.302593; val loss: 2.301837\n",
      "(Epoch 16 / 50) train loss: 2.302592; val loss: 2.301823\n",
      "(Epoch 17 / 50) train loss: 2.302591; val loss: 2.301812\n",
      "(Epoch 18 / 50) train loss: 2.302593; val loss: 2.301808\n",
      "(Epoch 19 / 50) train loss: 2.302591; val loss: 2.301800\n",
      "(Epoch 20 / 50) train loss: 2.302593; val loss: 2.301795\n",
      "(Epoch 21 / 50) train loss: 2.302591; val loss: 2.301789\n",
      "(Epoch 22 / 50) train loss: 2.302589; val loss: 2.301787\n",
      "(Epoch 23 / 50) train loss: 2.302589; val loss: 2.301782\n",
      "(Epoch 24 / 50) train loss: 2.302590; val loss: 2.301781\n",
      "(Epoch 25 / 50) train loss: 2.302590; val loss: 2.301778\n",
      "(Epoch 26 / 50) train loss: 2.302589; val loss: 2.301776\n",
      "(Epoch 27 / 50) train loss: 2.302588; val loss: 2.301773\n",
      "(Epoch 28 / 50) train loss: 2.302590; val loss: 2.301772\n",
      "(Epoch 29 / 50) train loss: 2.302589; val loss: 2.301771\n",
      "(Epoch 30 / 50) train loss: 2.302590; val loss: 2.301770\n",
      "(Epoch 31 / 50) train loss: 2.302591; val loss: 2.301769\n",
      "(Epoch 32 / 50) train loss: 2.302589; val loss: 2.301768\n",
      "(Epoch 33 / 50) train loss: 2.302588; val loss: 2.301768\n",
      "(Epoch 34 / 50) train loss: 2.302589; val loss: 2.301767\n",
      "(Epoch 35 / 50) train loss: 2.302592; val loss: 2.301766\n"
     ]
    },
    {
     "name": "stdout",
     "output_type": "stream",
     "text": [
      "(Epoch 36 / 50) train loss: 2.302589; val loss: 2.301766\n",
      "(Epoch 37 / 50) train loss: 2.302590; val loss: 2.301766\n",
      "(Epoch 38 / 50) train loss: 2.302589; val loss: 2.301766\n",
      "(Epoch 39 / 50) train loss: 2.302590; val loss: 2.301765\n",
      "(Epoch 40 / 50) train loss: 2.302588; val loss: 2.301765\n",
      "(Epoch 41 / 50) train loss: 2.302590; val loss: 2.301765\n",
      "(Epoch 42 / 50) train loss: 2.302588; val loss: 2.301765\n",
      "(Epoch 43 / 50) train loss: 2.302589; val loss: 2.301764\n",
      "(Epoch 44 / 50) train loss: 2.302589; val loss: 2.301764\n",
      "(Epoch 45 / 50) train loss: 2.302589; val loss: 2.301764\n",
      "(Epoch 46 / 50) train loss: 2.302589; val loss: 2.301764\n",
      "(Epoch 47 / 50) train loss: 2.302592; val loss: 2.301764\n",
      "(Epoch 48 / 50) train loss: 2.302590; val loss: 2.301764\n",
      "(Epoch 49 / 50) train loss: 2.302588; val loss: 2.301764\n",
      "(Epoch 50 / 50) train loss: 2.302589; val loss: 2.301764\n",
      "\n",
      "Evaluating Config #15 [of 20]:\n",
      " {'learning_rate': 0.00027560892633592257, 'reg': 5.632159181248859e-05, 'loss_func': <exercise_code.networks.loss.CrossEntropyFromLogits object at 0x7fdbb329f460>, 'hidden_size': 384, 'activation': <exercise_code.networks.layer.Relu object at 0x7fdbb41438b0>, 'num_layer': 4, 'lr_decay': 0.9648592723758673}\n",
      "(Epoch 1 / 50) train loss: 2.302668; val loss: 2.302668\n",
      "(Epoch 2 / 50) train loss: 2.302681; val loss: 2.302375\n",
      "(Epoch 3 / 50) train loss: 2.302664; val loss: 2.302080\n",
      "(Epoch 4 / 50) train loss: 2.302650; val loss: 2.301958\n",
      "(Epoch 5 / 50) train loss: 2.302644; val loss: 2.301759\n",
      "(Epoch 6 / 50) train loss: 2.302635; val loss: 2.301659\n",
      "(Epoch 7 / 50) train loss: 2.302625; val loss: 2.301588\n",
      "(Epoch 8 / 50) train loss: 2.302622; val loss: 2.301494\n",
      "(Epoch 9 / 50) train loss: 2.302619; val loss: 2.301399\n",
      "(Epoch 10 / 50) train loss: 2.302613; val loss: 2.301343\n",
      "(Epoch 11 / 50) train loss: 2.286776; val loss: 2.124763\n",
      "(Epoch 12 / 50) train loss: 2.079924; val loss: 1.946987\n",
      "(Epoch 13 / 50) train loss: 1.975237; val loss: 1.860170\n",
      "(Epoch 14 / 50) train loss: 1.808436; val loss: 1.725681\n",
      "(Epoch 15 / 50) train loss: 1.660728; val loss: 1.618100\n",
      "(Epoch 16 / 50) train loss: 1.544591; val loss: 1.584442\n",
      "(Epoch 17 / 50) train loss: 1.459733; val loss: 1.480244\n",
      "(Epoch 18 / 50) train loss: 1.391700; val loss: 1.532507\n",
      "(Epoch 19 / 50) train loss: 1.329234; val loss: 1.465663\n",
      "(Epoch 20 / 50) train loss: 1.272442; val loss: 1.496838\n",
      "(Epoch 21 / 50) train loss: 1.216893; val loss: 1.392806\n",
      "(Epoch 22 / 50) train loss: 1.177265; val loss: 1.501866\n",
      "(Epoch 23 / 50) train loss: 1.115546; val loss: 1.447846\n",
      "(Epoch 24 / 50) train loss: 1.073315; val loss: 1.514895\n",
      "(Epoch 25 / 50) train loss: 1.028149; val loss: 1.515267\n",
      "(Epoch 26 / 50) train loss: 0.987778; val loss: 1.446954\n",
      "Stopping early at epoch 25!\n",
      "\n",
      "Evaluating Config #16 [of 20]:\n",
      " {'learning_rate': 0.00027942903325606894, 'reg': 2.4852785233390583e-05, 'loss_func': <exercise_code.networks.loss.CrossEntropyFromLogits object at 0x7fdbb329f460>, 'hidden_size': 247, 'activation': <exercise_code.networks.layer.LeakyRelu object at 0x7fdbb4143610>, 'num_layer': 2, 'lr_decay': 0.9952683670169635}\n",
      "(Epoch 1 / 50) train loss: 2.302588; val loss: 2.302587\n",
      "(Epoch 2 / 50) train loss: 1.909699; val loss: 1.630164\n",
      "(Epoch 3 / 50) train loss: 1.650108; val loss: 1.579095\n",
      "(Epoch 4 / 50) train loss: 1.547748; val loss: 1.558635\n",
      "(Epoch 5 / 50) train loss: 1.478261; val loss: 1.437157\n",
      "(Epoch 6 / 50) train loss: 1.421601; val loss: 1.394246\n",
      "(Epoch 7 / 50) train loss: 1.372752; val loss: 1.416829\n",
      "(Epoch 8 / 50) train loss: 1.329139; val loss: 1.393684\n",
      "(Epoch 9 / 50) train loss: 1.288391; val loss: 1.387284\n",
      "(Epoch 10 / 50) train loss: 1.247476; val loss: 1.393391\n",
      "(Epoch 11 / 50) train loss: 1.213577; val loss: 1.376503\n",
      "(Epoch 12 / 50) train loss: 1.177301; val loss: 1.356431\n",
      "(Epoch 13 / 50) train loss: 1.142223; val loss: 1.407819\n",
      "(Epoch 14 / 50) train loss: 1.115323; val loss: 1.357860\n",
      "(Epoch 15 / 50) train loss: 1.083870; val loss: 1.341342\n",
      "(Epoch 16 / 50) train loss: 1.052144; val loss: 1.405669\n",
      "(Epoch 17 / 50) train loss: 1.021893; val loss: 1.398208\n",
      "(Epoch 18 / 50) train loss: 0.998393; val loss: 1.431248\n",
      "(Epoch 19 / 50) train loss: 0.970604; val loss: 1.421976\n",
      "(Epoch 20 / 50) train loss: 0.946687; val loss: 1.461720\n",
      "Stopping early at epoch 19!\n",
      "\n",
      "Evaluating Config #17 [of 20]:\n",
      " {'learning_rate': 0.000779031325923996, 'reg': 1.0315134452879012e-06, 'loss_func': <exercise_code.networks.loss.CrossEntropyFromLogits object at 0x7fdbb329f460>, 'hidden_size': 286, 'activation': <exercise_code.networks.layer.Relu object at 0x7fdbb41438b0>, 'num_layer': 4, 'lr_decay': 0.9184953746389067}\n",
      "(Epoch 1 / 50) train loss: 2.302586; val loss: 2.302586\n",
      "(Epoch 2 / 50) train loss: 2.302636; val loss: 2.301819\n",
      "(Epoch 3 / 50) train loss: 2.302608; val loss: 2.301527\n",
      "(Epoch 4 / 50) train loss: 2.302591; val loss: 2.301312\n",
      "(Epoch 5 / 50) train loss: 2.302604; val loss: 2.301302\n",
      "(Epoch 6 / 50) train loss: 2.302574; val loss: 2.301035\n",
      "(Epoch 7 / 50) train loss: 2.302585; val loss: 2.300941\n",
      "(Epoch 8 / 50) train loss: 2.302582; val loss: 2.300924\n",
      "(Epoch 9 / 50) train loss: 2.302572; val loss: 2.300942\n",
      "(Epoch 10 / 50) train loss: 2.302579; val loss: 2.301102\n",
      "(Epoch 11 / 50) train loss: 2.302577; val loss: 2.300977\n",
      "(Epoch 12 / 50) train loss: 2.302574; val loss: 2.301042\n",
      "(Epoch 13 / 50) train loss: 2.302570; val loss: 2.300914\n",
      "(Epoch 14 / 50) train loss: 2.302567; val loss: 2.300892\n",
      "(Epoch 15 / 50) train loss: 2.302565; val loss: 2.300902\n",
      "(Epoch 16 / 50) train loss: 2.302564; val loss: 2.300945\n",
      "(Epoch 17 / 50) train loss: 2.302564; val loss: 2.300872\n",
      "(Epoch 18 / 50) train loss: 2.302556; val loss: 2.300865\n",
      "(Epoch 19 / 50) train loss: 2.302558; val loss: 2.300845\n",
      "(Epoch 20 / 50) train loss: 2.302558; val loss: 2.300857\n",
      "(Epoch 21 / 50) train loss: 2.302557; val loss: 2.300879\n",
      "(Epoch 22 / 50) train loss: 2.302558; val loss: 2.300870\n",
      "(Epoch 23 / 50) train loss: 2.302555; val loss: 2.300859\n",
      "(Epoch 24 / 50) train loss: 2.302556; val loss: 2.300856\n",
      "Stopping early at epoch 23!\n",
      "\n",
      "Evaluating Config #18 [of 20]:\n",
      " {'learning_rate': 0.00016130657020058456, 'reg': 3.946569604028438e-06, 'loss_func': <exercise_code.networks.loss.CrossEntropyFromLogits object at 0x7fdbb329f460>, 'hidden_size': 133, 'activation': <exercise_code.networks.layer.LeakyRelu object at 0x7fdbb4143610>, 'num_layer': 2, 'lr_decay': 0.9248456436843792}\n",
      "(Epoch 1 / 50) train loss: 2.302587; val loss: 2.302620\n",
      "(Epoch 2 / 50) train loss: 2.046864; val loss: 1.792263\n",
      "(Epoch 3 / 50) train loss: 1.796843; val loss: 1.625491\n",
      "(Epoch 4 / 50) train loss: 1.703598; val loss: 1.603870\n",
      "(Epoch 5 / 50) train loss: 1.643105; val loss: 1.593290\n",
      "(Epoch 6 / 50) train loss: 1.598812; val loss: 1.560322\n",
      "(Epoch 7 / 50) train loss: 1.563988; val loss: 1.548019\n",
      "(Epoch 8 / 50) train loss: 1.536046; val loss: 1.527142\n",
      "(Epoch 9 / 50) train loss: 1.513082; val loss: 1.488021\n",
      "(Epoch 10 / 50) train loss: 1.494091; val loss: 1.499029\n",
      "(Epoch 11 / 50) train loss: 1.477049; val loss: 1.475642\n",
      "(Epoch 12 / 50) train loss: 1.462646; val loss: 1.468957\n",
      "(Epoch 13 / 50) train loss: 1.449840; val loss: 1.460145\n",
      "(Epoch 14 / 50) train loss: 1.438411; val loss: 1.459950\n",
      "(Epoch 15 / 50) train loss: 1.427742; val loss: 1.457511\n",
      "(Epoch 16 / 50) train loss: 1.418790; val loss: 1.439224\n",
      "(Epoch 17 / 50) train loss: 1.410757; val loss: 1.444186\n",
      "(Epoch 18 / 50) train loss: 1.402575; val loss: 1.434308\n",
      "(Epoch 19 / 50) train loss: 1.396880; val loss: 1.434160\n",
      "(Epoch 20 / 50) train loss: 1.390161; val loss: 1.434109\n",
      "(Epoch 21 / 50) train loss: 1.384696; val loss: 1.431839\n",
      "(Epoch 22 / 50) train loss: 1.379367; val loss: 1.421326\n",
      "(Epoch 23 / 50) train loss: 1.374586; val loss: 1.421064\n",
      "(Epoch 24 / 50) train loss: 1.370830; val loss: 1.426306\n",
      "(Epoch 25 / 50) train loss: 1.366767; val loss: 1.413750\n",
      "(Epoch 26 / 50) train loss: 1.363244; val loss: 1.415164\n",
      "(Epoch 27 / 50) train loss: 1.360115; val loss: 1.417877\n",
      "(Epoch 28 / 50) train loss: 1.356824; val loss: 1.405068\n",
      "(Epoch 29 / 50) train loss: 1.353909; val loss: 1.412348\n",
      "(Epoch 30 / 50) train loss: 1.351392; val loss: 1.408699\n",
      "(Epoch 31 / 50) train loss: 1.349168; val loss: 1.409526\n",
      "(Epoch 32 / 50) train loss: 1.347050; val loss: 1.404622\n",
      "(Epoch 33 / 50) train loss: 1.344504; val loss: 1.401812\n",
      "(Epoch 34 / 50) train loss: 1.343143; val loss: 1.404461\n"
     ]
    },
    {
     "name": "stdout",
     "output_type": "stream",
     "text": [
      "(Epoch 35 / 50) train loss: 1.341715; val loss: 1.404247\n",
      "(Epoch 36 / 50) train loss: 1.339732; val loss: 1.403380\n",
      "(Epoch 37 / 50) train loss: 1.338162; val loss: 1.403197\n",
      "(Epoch 38 / 50) train loss: 1.337345; val loss: 1.402057\n",
      "Stopping early at epoch 37!\n",
      "\n",
      "Evaluating Config #19 [of 20]:\n",
      " {'learning_rate': 0.0007545882692580777, 'reg': 6.096116038621918e-05, 'loss_func': <exercise_code.networks.loss.CrossEntropyFromLogits object at 0x7fdbb329f460>, 'hidden_size': 224, 'activation': <exercise_code.networks.layer.LeakyRelu object at 0x7fdbb4143610>, 'num_layer': 3, 'lr_decay': 0.8539848789263861}\n",
      "(Epoch 1 / 50) train loss: 2.302630; val loss: 2.302629\n",
      "(Epoch 2 / 50) train loss: 2.043581; val loss: 1.701111\n",
      "(Epoch 3 / 50) train loss: 1.696559; val loss: 1.617730\n",
      "(Epoch 4 / 50) train loss: 1.553859; val loss: 1.522509\n",
      "(Epoch 5 / 50) train loss: 1.451226; val loss: 1.433950\n",
      "(Epoch 6 / 50) train loss: 1.371768; val loss: 1.400062\n",
      "(Epoch 7 / 50) train loss: 1.307269; val loss: 1.388863\n",
      "(Epoch 8 / 50) train loss: 1.253293; val loss: 1.364274\n",
      "(Epoch 9 / 50) train loss: 1.204110; val loss: 1.338573\n",
      "(Epoch 10 / 50) train loss: 1.165159; val loss: 1.356453\n",
      "(Epoch 11 / 50) train loss: 1.125798; val loss: 1.397790\n",
      "(Epoch 12 / 50) train loss: 1.095717; val loss: 1.403879\n",
      "(Epoch 13 / 50) train loss: 1.066462; val loss: 1.376211\n",
      "(Epoch 14 / 50) train loss: 1.042315; val loss: 1.390381\n",
      "Stopping early at epoch 13!\n",
      "\n",
      "Evaluating Config #20 [of 20]:\n",
      " {'learning_rate': 0.0004488312868771214, 'reg': 5.544593529803481e-07, 'loss_func': <exercise_code.networks.loss.CrossEntropyFromLogits object at 0x7fdbb329f460>, 'hidden_size': 108, 'activation': <exercise_code.networks.layer.Relu object at 0x7fdbb41438b0>, 'num_layer': 4, 'lr_decay': 0.864409482905405}\n",
      "(Epoch 1 / 50) train loss: 2.302585; val loss: 2.302585\n",
      "(Epoch 2 / 50) train loss: 2.302605; val loss: 2.302103\n",
      "(Epoch 3 / 50) train loss: 2.302584; val loss: 2.301824\n",
      "(Epoch 4 / 50) train loss: 2.302580; val loss: 2.301596\n",
      "(Epoch 5 / 50) train loss: 2.302574; val loss: 2.301523\n",
      "(Epoch 6 / 50) train loss: 2.302564; val loss: 2.301459\n",
      "(Epoch 7 / 50) train loss: 2.302566; val loss: 2.301385\n",
      "(Epoch 8 / 50) train loss: 2.302565; val loss: 2.301316\n",
      "(Epoch 9 / 50) train loss: 2.302562; val loss: 2.301304\n",
      "(Epoch 10 / 50) train loss: 2.302556; val loss: 2.301248\n",
      "(Epoch 11 / 50) train loss: 2.302554; val loss: 2.301220\n",
      "(Epoch 12 / 50) train loss: 2.302556; val loss: 2.301243\n",
      "(Epoch 13 / 50) train loss: 2.302554; val loss: 2.301191\n",
      "(Epoch 14 / 50) train loss: 2.302553; val loss: 2.301191\n",
      "(Epoch 15 / 50) train loss: 2.302553; val loss: 2.301174\n",
      "(Epoch 16 / 50) train loss: 2.302550; val loss: 2.301159\n",
      "(Epoch 17 / 50) train loss: 2.302551; val loss: 2.301144\n",
      "(Epoch 18 / 50) train loss: 2.302548; val loss: 2.301149\n",
      "(Epoch 19 / 50) train loss: 2.302549; val loss: 2.301142\n",
      "(Epoch 20 / 50) train loss: 2.302553; val loss: 2.301137\n",
      "(Epoch 21 / 50) train loss: 2.302546; val loss: 2.301130\n",
      "(Epoch 22 / 50) train loss: 2.302549; val loss: 2.301128\n",
      "(Epoch 23 / 50) train loss: 2.302550; val loss: 2.301129\n",
      "(Epoch 24 / 50) train loss: 2.302548; val loss: 2.301121\n",
      "(Epoch 25 / 50) train loss: 2.302546; val loss: 2.301122\n",
      "(Epoch 26 / 50) train loss: 2.302548; val loss: 2.301118\n",
      "(Epoch 27 / 50) train loss: 2.302547; val loss: 2.301118\n",
      "(Epoch 28 / 50) train loss: 2.302546; val loss: 2.301116\n",
      "(Epoch 29 / 50) train loss: 2.302546; val loss: 2.301118\n",
      "(Epoch 30 / 50) train loss: 2.302549; val loss: 2.301114\n",
      "(Epoch 31 / 50) train loss: 2.302548; val loss: 2.301114\n",
      "(Epoch 32 / 50) train loss: 2.302545; val loss: 2.301115\n",
      "(Epoch 33 / 50) train loss: 2.302548; val loss: 2.301113\n",
      "(Epoch 34 / 50) train loss: 2.302547; val loss: 2.301111\n",
      "(Epoch 35 / 50) train loss: 2.302549; val loss: 2.301112\n",
      "(Epoch 36 / 50) train loss: 2.302546; val loss: 2.301110\n",
      "(Epoch 37 / 50) train loss: 2.302546; val loss: 2.301110\n",
      "(Epoch 38 / 50) train loss: 2.302547; val loss: 2.301110\n",
      "(Epoch 39 / 50) train loss: 2.302545; val loss: 2.301110\n",
      "(Epoch 40 / 50) train loss: 2.302546; val loss: 2.301109\n",
      "(Epoch 41 / 50) train loss: 2.302545; val loss: 2.301109\n",
      "(Epoch 42 / 50) train loss: 2.302548; val loss: 2.301109\n",
      "(Epoch 43 / 50) train loss: 2.302546; val loss: 2.301109\n",
      "(Epoch 44 / 50) train loss: 2.302542; val loss: 2.301108\n",
      "(Epoch 45 / 50) train loss: 2.302549; val loss: 2.301109\n",
      "(Epoch 46 / 50) train loss: 2.302545; val loss: 2.301109\n",
      "(Epoch 47 / 50) train loss: 2.302546; val loss: 2.301109\n",
      "(Epoch 48 / 50) train loss: 2.302548; val loss: 2.301108\n",
      "(Epoch 49 / 50) train loss: 2.302545; val loss: 2.301108\n",
      "(Epoch 50 / 50) train loss: 2.302548; val loss: 2.301108\n",
      "\n",
      "Search done. Best Val Loss = 1.2947837255861376\n",
      "Best Config: {'learning_rate': 0.0001527624123692058, 'reg': 5.3533112719765146e-05, 'loss_func': <exercise_code.networks.loss.CrossEntropyFromLogits object at 0x7fdbb329f460>, 'hidden_size': 387, 'activation': <exercise_code.networks.layer.Relu object at 0x7fdbb41438b0>, 'num_layer': 2, 'lr_decay': 0.9829761173894205}\n"
     ]
    }
   ],
   "source": [
    "from exercise_code.hyperparameter_tuning import random_search\n",
    "from exercise_code.networks import MyOwnNetwork\n",
    "\n",
    "best_model = ClassificationNet()\n",
    "#best_model = MyOwnNetwork()\n",
    "\n",
    "########################################################################\n",
    "# TODO:                                                                #\n",
    "# Implement your own neural network and find suitable hyperparameters  #\n",
    "# Be sure to edit the MyOwnNetwork class in the following code snippet #\n",
    "# to upload the correct model!                                         #\n",
    "########################################################################\n",
    "\n",
    "model_class = ClassificationNet\n",
    "\n",
    "# best_model, results = random_search(\n",
    "#     dataloaders['train_small'], dataloaders['val_500files'],\n",
    "#     random_search_spaces = {\n",
    "#         \"learning_rate\": ([1e-3, 1e-4], 'log'),\n",
    "#         \"reg\": ([1e-4, 1e-7], \"log\"),\n",
    "#         \"loss_func\": ([CrossEntropyFromLogits()], \"item\"),\n",
    "#         \"hidden_size\": ([100, 400], \"int\"),\n",
    "#         \"activation\": ([Relu()], \"item\"),\n",
    "#         \"num_layer\": ([2, 3, 4], \"int\")\n",
    "#     },\n",
    "#     model_class=model_class,\n",
    "#     num_search=100, epochs=20, patience=5)\n",
    "\n",
    "\n",
    "# best_model, results = random_search(\n",
    "#     dataloaders['train_small'], dataloaders['val_500files'],\n",
    "#     random_search_spaces = {\n",
    "#         \"learning_rate\": ([1e-3, 1e-4], 'log'),\n",
    "#         \"reg\": ([1e-4, 1e-7], \"log\"),\n",
    "#         \"loss_func\": ([CrossEntropyFromLogits()], \"item\"),\n",
    "#         \"hidden_size\": ([100, 400], \"int\"),\n",
    "#         \"activation\": ([Relu(), LeakyRelu()], \"item\"),\n",
    "#         \"num_layer\": ([2, 3, 4], \"int\")\n",
    "#     },\n",
    "#     model_class=model_class,\n",
    "#     num_search=100, epochs=20, patience=5)\n",
    "# # test_acc=35.58%\n",
    "\n",
    "best_model, results = random_search(\n",
    "    dataloaders['train'], dataloaders['val_500files'],\n",
    "    random_search_spaces = {\n",
    "        \"learning_rate\": ([1e-3, 1e-4], 'log'),\n",
    "        \"reg\": ([1e-4, 1e-7], \"log\"),\n",
    "        \"loss_func\": ([CrossEntropyFromLogits()], \"item\"),\n",
    "        \"hidden_size\": ([100, 400], \"int\"),\n",
    "        \"activation\": ([Relu(), LeakyRelu()], \"item\"),\n",
    "        \"num_layer\": ([2, 3, 4], \"int\"),\n",
    "        \"lr_decay\": ([0.85, 1.0], \"float\")\n",
    "    },\n",
    "    model_class=model_class,\n",
    "    num_search=20, epochs=50, patience=5)\n",
    "# Best Val Loss = 1.254066289062449\n",
    "# Train Accuracy: 75.94150641025641%\n",
    "# Validation Accuracy: 51.39222756410257%\n",
    "# Test Accuracy: 50.99158653846154%\n",
    "\n",
    "########################################################################\n",
    "#                           END OF YOUR CODE                           #\n",
    "########################################################################"
   ]
  },
  {
   "cell_type": "markdown",
   "metadata": {
    "id": "gmZbWaaIN5er"
   },
   "source": [
    "Now it's time to edit the ranges above and adjust them to explore regions that performed well!\n",
    "\n",
    "Also, feel free to experiment around. Other hyperparameters you can change are the network architecture, optimizer, activations functions and many more.\n",
    "\n",
    "Try to get an accuracy as high as possible, since that's all what counts for this submission!\n",
    "\n",
    "You'll pass if you reach at least **48%** accuracy on our test set - but there will also be a leaderboard of all students of this course. Can you make it to the top?"
   ]
  },
  {
   "cell_type": "markdown",
   "metadata": {
    "id": "mJZ7UXHeN5er"
   },
   "source": [
    "## 3.5 Checking the validation accuracy"
   ]
  },
  {
   "cell_type": "code",
   "execution_count": 28,
   "metadata": {
    "colab": {
     "background_save": true
    },
    "id": "qPyHczNJN5er",
    "outputId": "7cbc0fbb-2d6e-49a1-d518-83e2260ea339"
   },
   "outputs": [
    {
     "name": "stdout",
     "output_type": "stream",
     "text": [
      "Train Accuracy: 69.62139423076923%\n",
      "Validation Accuracy: 51.832932692307686%\n"
     ]
    }
   ],
   "source": [
    "labels, pred, acc = best_model.get_dataset_prediction(dataloaders['train'])\n",
    "print(\"Train Accuracy: {}%\".format(acc*100))\n",
    "labels, pred, acc = best_model.get_dataset_prediction(dataloaders['val'])\n",
    "print(\"Validation Accuracy: {}%\".format(acc*100))"
   ]
  },
  {
   "cell_type": "markdown",
   "metadata": {
    "id": "MQ_AGtp8N5er"
   },
   "source": [
    "# 4. Test your model\n",
    "When you have finished the hyperparameter tuning and you found your final model which performs well on the validation set (**you should at least get 48% accuracy on the validation set!**), it's time to run your model on the test set.\n",
    "\n",
    "<div class=\"alert alert-danger\">\n",
    "    <h3>Important</h3>\n",
    "    <p>As you have learned in the lecture, you must only use the test set once! So only run the next cell if you are completely sure that your model works well enough and that you are ready to submit. Your test set is different from the test set on our server, so results may vary a bit. Nevertheless, you will get a reasonable approximation of your model's performance if you perform the final evaluation on the test set only once.</p>\n",
    "    <p>If you are an external student that can't use our submission webpage: this test performance is your final result and if you surpassed the threshold, you have completed this exercise :). Now, train again to aim for a better number!</p>\n",
    "</div>"
   ]
  },
  {
   "cell_type": "code",
   "execution_count": null,
   "metadata": {
    "colab": {
     "background_save": true
    },
    "id": "xJ2lwiVUN5er",
    "outputId": "82f45e2a-7357-4444-d8c7-2296b7f6cb68"
   },
   "outputs": [],
   "source": [
    "# comment this part out to see your model's performance on the test set.\n",
    "labels, pred, acc = best_model.get_dataset_prediction(dataloaders['test'])\n",
    "print(\"Test Accuracy: {}%\".format(acc*100))\n"
   ]
  },
  {
   "cell_type": "markdown",
   "metadata": {
    "id": "K3MBnG7qN5er"
   },
   "source": [
    "<div class=\"alert alert-warning\">\n",
    "    <h3>Note:</h3>\n",
    "    <p>The \"real\" test set is actually the dataset we're using for testing your model, which is <b>different</b> from the test-set you're using here.</p>\n",
    "</div>"
   ]
  },
  {
   "cell_type": "markdown",
   "metadata": {
    "id": "2lOy_GulN5es"
   },
   "source": [
    "# 5. Saving your Model"
   ]
  },
  {
   "cell_type": "code",
   "execution_count": null,
   "metadata": {
    "colab": {
     "background_save": true
    },
    "id": "icgNMAlEN5es"
   },
   "outputs": [],
   "source": [
    "from exercise_code.tests import save_pickle\n",
    "save_pickle({\"cifar_fcn\": best_model}, \"cifar_fcn.p\")"
   ]
  },
  {
   "cell_type": "code",
   "execution_count": null,
   "metadata": {
    "colab": {
     "background_save": true
    },
    "id": "Gd4TchGlN5es",
    "outputId": "b913c1bd-b861-47bb-c257-b30fa214e761"
   },
   "outputs": [],
   "source": [
    "from exercise_code.submit import submit_exercise\n",
    "\n",
    "submit_exercise('../output/exercise06')"
   ]
  },
  {
   "cell_type": "markdown",
   "metadata": {
    "id": "q5C_bKa5N5es"
   },
   "source": [
    "# 6. Submission Instructions\n",
    "\n",
    "Congratulations! You've just built your first image classifier! To complete the exercise, submit your final model to our submission portal - you probably know the procedure by now.\n",
    "\n",
    "1. Go on [our submission page](https://i2dl.dvl.in.tum.de/), register for an account and login. We use your matriculation number and send you an email with the login details to the associated mail account. When in doubt, login into tum-online and check your mails there. You will get an id which we'll need in the next step.\n",
    "2. Log into [our submission page](https://i2dl.dvl.in.tum.de/), with your account details and upload the zip file.\n",
    "3. Your submission will be evaluated by our system and you will get feedback about the performance of it. You will get an email with your score, as well as a message if you have surpassed the threshold or not.\n",
    "4. Within the working period, you can submit as many solutions as you want to get the best possible score.\n",
    "\n",
    "\n",
    "# 7. Submission Goals\n",
    "\n",
    "- Goal: Successfully implement a fully connected NN image classifier and tune the hyperparameters.\n",
    "\n",
    "- Passing Criteria: This time, there are no unit tests checking specific components of your code. To  pass the submission your model needs to reach at least **48% accuracy** on __our__ test dataset. The submission system will show you a number between 0 and 100 which corresponds to your accuracy.\n",
    "\n",
    "- Submission start: __June 14, 2022 16:00__\n",
    "- Submission deadline : __June 20, 2022 23:59__ \n",
    "- You can make **$\\infty$** submissions until the deadline. Your __best submission__ will be considered for the bonus."
   ]
  },
  {
   "cell_type": "markdown",
   "metadata": {},
   "source": [
    "# [Exercise Review](https://docs.google.com/forms/d/e/1FAIpQLScwZArz6ogLqBEj--ItB6unKcv0u9gWLj8bspeiATrDnFH9hA/viewform)\n",
    "We are always interested in your opinion. Now that you have finished this exercise, we would like you to give us some feedback about the time required to finish the submission and/or work through the notebooks. Please take the short time to fill out our [review form](https://docs.google.com/forms/d/e/1FAIpQLScwZArz6ogLqBEj--ItB6unKcv0u9gWLj8bspeiATrDnFH9hA/viewform) for this exercise so that we can do better next time! :)"
   ]
  }
 ],
 "metadata": {
  "colab": {
   "collapsed_sections": [
    "WKNRU4BWN5eg",
    "3MhxqP2LN5ej",
    "dbFSP4z9N5ek",
    "0TE2PxMBN5ek",
    "QUFotyERN5ek",
    "l0pZa4weN5eo",
    "rDyeiAN1N5ep",
    "DCaACnn3N5eq",
    "P8wWTovfN5eq",
    "mJZ7UXHeN5er"
   ],
   "name": "1.cifar10_classification.ipynb",
   "provenance": []
  },
  "kernelspec": {
   "display_name": "Python 3 (ipykernel)",
   "language": "python",
   "name": "python3"
  },
  "language_info": {
   "codemirror_mode": {
    "name": "ipython",
    "version": 3
   },
   "file_extension": ".py",
   "mimetype": "text/x-python",
   "name": "python",
   "nbconvert_exporter": "python",
   "pygments_lexer": "ipython3",
   "version": "3.10.4"
  }
 },
 "nbformat": 4,
 "nbformat_minor": 1
}
